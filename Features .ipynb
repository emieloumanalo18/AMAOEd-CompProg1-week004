{
 "cells": [
  {
   "cell_type": "code",
   "execution_count": 6,
   "id": "46aefc6b",
   "metadata": {},
   "outputs": [],
   "source": [
    "# import libraries \n",
    "import numpy \n",
    "import matplotlib.pyplot \n",
    "import os\n",
    "import pickle\n",
    "import skimage.io, skimage.color, skimage.feature"
   ]
  },
  {
   "cell_type": "code",
   "execution_count": 7,
   "id": "95d112d9",
   "metadata": {},
   "outputs": [
    {
     "name": "stdout",
     "output_type": "stream",
     "text": [
      "Searching in :  C:\\Users\\emielou\\Desktop\\Data\n",
      "Searching in :  C:\\Users\\emielou\\Desktop\\Data\\black_dress\n",
      "Searching in :  C:\\Users\\emielou\\Desktop\\Data\\black_pants\n",
      "Searching in :  C:\\Users\\emielou\\Desktop\\Data\\black_shirt\n",
      "Searching in :  C:\\Users\\emielou\\Desktop\\Data\\black_shoes\n",
      "Searching in :  C:\\Users\\emielou\\Desktop\\Data\\black_shorts\n",
      "Searching in :  C:\\Users\\emielou\\Desktop\\Data\\black_suit\n",
      "Searching in :  C:\\Users\\emielou\\Desktop\\Data\\blue_dress\n",
      "Searching in :  C:\\Users\\emielou\\Desktop\\Data\\blue_pants\n",
      "Searching in :  C:\\Users\\emielou\\Desktop\\Data\\blue_shirt\n",
      "Searching in :  C:\\Users\\emielou\\Desktop\\Data\\blue_shoes\n",
      "Searching in :  C:\\Users\\emielou\\Desktop\\Data\\blue_shorts\n",
      "Searching in :  C:\\Users\\emielou\\Desktop\\Data\\brown_hoodie\n",
      "Searching in :  C:\\Users\\emielou\\Desktop\\Data\\brown_pants\n",
      "Searching in :  C:\\Users\\emielou\\Desktop\\Data\\brown_shoes\n",
      "Searching in :  C:\\Users\\emielou\\Desktop\\Data\\green_pants\n",
      "Searching in :  C:\\Users\\emielou\\Desktop\\Data\\green_shirt\n",
      "Searching in :  C:\\Users\\emielou\\Desktop\\Data\\green_shoes\n",
      "Searching in :  C:\\Users\\emielou\\Desktop\\Data\\green_shorts\n",
      "Searching in :  C:\\Users\\emielou\\Desktop\\Data\\green_suit\n",
      "Searching in :  C:\\Users\\emielou\\Desktop\\Data\\pink_hoodie\n",
      "Searching in :  C:\\Users\\emielou\\Desktop\\Data\\pink_pants\n",
      "Searching in :  C:\\Users\\emielou\\Desktop\\Data\\pink_skirt\n",
      "Searching in :  C:\\Users\\emielou\\Desktop\\Data\\red_dress\n",
      "Searching in :  C:\\Users\\emielou\\Desktop\\Data\\red_hoodie\n",
      "Searching in :  C:\\Users\\emielou\\Desktop\\Data\\red_pants\n",
      "Searching in :  C:\\Users\\emielou\\Desktop\\Data\\red_shirt\n",
      "Searching in :  C:\\Users\\emielou\\Desktop\\Data\\red_shoes\n",
      "Searching in :  C:\\Users\\emielou\\Desktop\\Data\\silver_shoes\n",
      "Searching in :  C:\\Users\\emielou\\Desktop\\Data\\silver_skirt\n",
      "Searching in :  C:\\Users\\emielou\\Desktop\\Data\\white_dress\n",
      "Searching in :  C:\\Users\\emielou\\Desktop\\Data\\white_pants\n",
      "Searching in :  C:\\Users\\emielou\\Desktop\\Data\\white_shoes\n",
      "Searching in :  C:\\Users\\emielou\\Desktop\\Data\\white_shorts\n",
      "Searching in :  C:\\Users\\emielou\\Desktop\\Data\\white_suit\n",
      "Searching in :  C:\\Users\\emielou\\Desktop\\Data\\yellow_dress\n",
      "Searching in :  C:\\Users\\emielou\\Desktop\\Data\\yellow_shorts\n",
      "Searching in :  C:\\Users\\emielou\\Desktop\\Data\\yellow_skirt\n",
      "\n",
      " List of classes: \n",
      " ['.ipynb_checkpoints', 'black_dress', 'black_pants', 'black_shirt', 'black_shoes', 'black_shorts', 'black_suit', 'blue_dress', 'blue_pants', 'blue_shirt', 'blue_shoes', 'blue_shorts', 'brown_hoodie', 'brown_pants', 'brown_shoes', 'green_pants', 'green_shirt', 'green_shoes', 'green_shorts', 'green_suit', 'pink_hoodie', 'pink_pants', 'pink_skirt', 'red_dress', 'red_hoodie', 'red_pants', 'red_shirt', 'red_shoes', 'silver_shoes', 'silver_skirt', 'white_dress', 'white_pants', 'white_shoes', 'white_shorts', 'white_suit', 'yellow_dress', 'yellow_shorts', 'yellow_skirt']\n",
      "\n",
      " Total number of files 5280\n",
      " Total Number of directories 38\n",
      " Total: 5318\n"
     ]
    }
   ],
   "source": [
    "#data files\n",
    "directory = \"C:\\\\Users\\\\emielou\\\\Desktop\\\\Data\"\n",
    "totalfiles = 0\n",
    "total_dir = 0\n",
    "\n",
    "for base, dirs, files in os.walk(directory):\n",
    "    if base == os.path.join(directory,\".ipynb_checkpoints\"):\n",
    "        continue\n",
    "    print('Searching in : ', base)\n",
    "    for directories in dirs:\n",
    "        total_dir += 1\n",
    "    for file in files:\n",
    "        totalfiles += 1\n",
    "        \n",
    "list_dir = os.listdir(directory) \n",
    "\n",
    "print(\"\\n List of classes: \\n\", list_dir)\n",
    "print('\\n Total number of files',totalfiles)\n",
    "print(' Total Number of directories',total_dir)\n",
    "print(' Total:',(total_dir + totalfiles))"
   ]
  },
  {
   "cell_type": "code",
   "execution_count": 8,
   "id": "d18cee5a",
   "metadata": {},
   "outputs": [
    {
     "name": "stdout",
     "output_type": "stream",
     "text": [
      "Classes: 37\n"
     ]
    }
   ],
   "source": [
    "Products = ['black_dress', 'black_pants', 'black_shirt', 'black_shoes', 'black_shorts', \n",
    "            'black_suit', 'blue_dress', 'blue_pants', 'blue_shirt', 'blue_shoes', 'blue_shorts',\n",
    "            'brown_hoodie', 'brown_pants', 'brown_shoes', 'green_pants', 'green_shirt', 'green_shoes',\n",
    "            'green_shorts', 'green_suit', 'pink_hoodie', 'pink_pants', 'pink_skirt', 'red_dress',\n",
    "            'red_hoodie', 'red_pants', 'red_shirt', 'red_shoes', 'silver_shoes', 'silver_skirt', \n",
    "            'white_dress', 'white_pants', 'white_shoes', 'white_shorts', 'white_suit', \n",
    "            'yellow_dress', 'yellow_shorts', 'yellow_skirt']\n",
    "\n",
    "print(\"Classes:\",len(Products))"
   ]
  },
  {
   "cell_type": "code",
   "execution_count": 9,
   "id": "91e0733e",
   "metadata": {
    "scrolled": true
   },
   "outputs": [],
   "source": [
    "#Feature Extraction\n",
    "dataset_features = numpy.zeros(shape=(5280, 360))\n",
    "outputs = numpy.zeros(shape=(5280))\n",
    "idx = 0\n",
    "class_label = 0\n",
    "\n",
    "for Products_dir in Products:\n",
    "    curr_dir = os.path.join(directory, Products_dir)\n",
    "#     print(curr_dir)\n",
    "    all_imgs = os.listdir(curr_dir)\n",
    "#     print(all_imgs)\n",
    "    \n",
    "    for img_file in all_imgs:\n",
    "        product_data = skimage.io.imread(fname=curr_dir+\"\\\\\"+img_file, as_gray=False)\n",
    "#         print(product_data_hsv)\n",
    "        product_data_hsv = skimage.color.rgb2hsv(rgb= product_data)\n",
    "        hist = numpy.histogram(a = product_data_hsv[:,:,0], bins = 360)\n",
    "        dataset_features[idx, :] = hist[0]\n",
    "        idx = idx + 1\n",
    "    class_label = class_label + 1\n",
    "\n",
    "    \n",
    "numpy.save(\"dataset_features.npy\", dataset_features)\n",
    "numpy.save(\"outputs.npy\", outputs)"
   ]
  },
  {
   "cell_type": "code",
   "execution_count": 14,
   "id": "43916aec",
   "metadata": {},
   "outputs": [
    {
     "name": "stdout",
     "output_type": "stream",
     "text": [
      "256\n",
      "256\n"
     ]
    }
   ],
   "source": []
  },
  {
   "cell_type": "code",
   "execution_count": null,
   "id": "2d812c76",
   "metadata": {},
   "outputs": [],
   "source": []
  }
 ],
 "metadata": {
  "kernelspec": {
   "display_name": "Python 3 (ipykernel)",
   "language": "python",
   "name": "python3"
  },
  "language_info": {
   "codemirror_mode": {
    "name": "ipython",
    "version": 3
   },
   "file_extension": ".py",
   "mimetype": "text/x-python",
   "name": "python",
   "nbconvert_exporter": "python",
   "pygments_lexer": "ipython3",
   "version": "3.9.12"
  }
 },
 "nbformat": 4,
 "nbformat_minor": 5
}
