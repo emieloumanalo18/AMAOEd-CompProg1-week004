{
 "cells": [
  {
   "cell_type": "code",
   "execution_count": 853,
   "id": "2c413699",
   "metadata": {},
   "outputs": [
    {
     "name": "stdout",
     "output_type": "stream",
     "text": [
      "Requirement already satisfied: pygad in c:\\users\\emielou\\anaconda3\\lib\\site-packages (2.16.3)\n",
      "Requirement already satisfied: matplotlib in c:\\users\\emielou\\anaconda3\\lib\\site-packages (from pygad) (3.5.1)\n",
      "Requirement already satisfied: numpy in c:\\users\\emielou\\anaconda3\\lib\\site-packages (from pygad) (1.21.5)\n",
      "Requirement already satisfied: python-dateutil>=2.7 in c:\\users\\emielou\\anaconda3\\lib\\site-packages (from matplotlib->pygad) (2.8.2)\n",
      "Requirement already satisfied: pillow>=6.2.0 in c:\\users\\emielou\\anaconda3\\lib\\site-packages (from matplotlib->pygad) (9.0.1)\n",
      "Requirement already satisfied: cycler>=0.10 in c:\\users\\emielou\\anaconda3\\lib\\site-packages (from matplotlib->pygad) (0.11.0)\n",
      "Requirement already satisfied: kiwisolver>=1.0.1 in c:\\users\\emielou\\anaconda3\\lib\\site-packages (from matplotlib->pygad) (1.3.2)\n",
      "Requirement already satisfied: packaging>=20.0 in c:\\users\\emielou\\anaconda3\\lib\\site-packages (from matplotlib->pygad) (21.3)\n",
      "Requirement already satisfied: pyparsing>=2.2.1 in c:\\users\\emielou\\anaconda3\\lib\\site-packages (from matplotlib->pygad) (3.0.4)\n",
      "Requirement already satisfied: fonttools>=4.22.0 in c:\\users\\emielou\\anaconda3\\lib\\site-packages (from matplotlib->pygad) (4.25.0)\n",
      "Requirement already satisfied: six>=1.5 in c:\\users\\emielou\\anaconda3\\lib\\site-packages (from python-dateutil>=2.7->matplotlib->pygad) (1.16.0)\n"
     ]
    }
   ],
   "source": [
    "!pip install pygad"
   ]
  },
  {
   "cell_type": "code",
   "execution_count": 854,
   "id": "be06122a",
   "metadata": {},
   "outputs": [],
   "source": [
    "import numpy\n",
    "import pygad.nn"
   ]
  },
  {
   "cell_type": "code",
   "execution_count": 855,
   "id": "efea19e8",
   "metadata": {},
   "outputs": [],
   "source": [
    "data_inputs = numpy.load(\"dataset_features.npy\")"
   ]
  },
  {
   "cell_type": "code",
   "execution_count": 856,
   "id": "2943e545",
   "metadata": {},
   "outputs": [],
   "source": [
    "# filter feature using std\n",
    "features_STDs = numpy.std(a=data_inputs, axis=0)\n",
    "data_inputs = data_inputs[:, features_STDs > 50]"
   ]
  },
  {
   "cell_type": "code",
   "execution_count": 857,
   "id": "ec53eacf",
   "metadata": {},
   "outputs": [],
   "source": [
    "data_outputs = numpy.load(\"outputs.npy\")"
   ]
  },
  {
   "cell_type": "code",
   "execution_count": 858,
   "id": "19e760d7",
   "metadata": {},
   "outputs": [],
   "source": [
    "num_inputs = data_inputs.shape[1]"
   ]
  },
  {
   "cell_type": "code",
   "execution_count": 859,
   "id": "6de1aebe",
   "metadata": {},
   "outputs": [],
   "source": [
    "num_outputs = 37\n",
    "\n",
    "HL1_neurons = 150\n",
    "HL2_neurons = 60"
   ]
  },
  {
   "cell_type": "code",
   "execution_count": 870,
   "id": "6be930d7",
   "metadata": {
    "scrolled": true
   },
   "outputs": [
    {
     "name": "stdout",
     "output_type": "stream",
     "text": [
      "Epoch  0\n",
      "Epoch  1\n",
      "Epoch  2\n",
      "Epoch  3\n",
      "Epoch  4\n",
      "Epoch  5\n",
      "Epoch  6\n",
      "Epoch  7\n",
      "Epoch  8\n",
      "Epoch  9\n",
      "Epoch  10\n"
     ]
    }
   ],
   "source": [
    "input_layer = pygad.nn.InputLayer(num_inputs)\n",
    "hidden_layer1 = pygad.nn.DenseLayer(num_neurons=HL1_neurons, previous_layer=input_layer, activation_function=\"relu\")\n",
    "hidden_layer2 = pygad.nn.DenseLayer(num_neurons=HL2_neurons, previous_layer=hidden_layer1, activation_function=\"relu\")\n",
    "output_layer = pygad.nn.DenseLayer(num_neurons=num_outputs, previous_layer=hidden_layer2, activation_function=\"softmax\")\n",
    "\n",
    "# Training the network.\n",
    "pygad.nn.train(num_epochs=11,\n",
    "               last_layer=output_layer,\n",
    "               data_inputs=data_inputs,\n",
    "               data_outputs=data_outputs,\n",
    "               learning_rate=0.01)\n"
   ]
  },
  {
   "cell_type": "code",
   "execution_count": 871,
   "id": "c6a4a000",
   "metadata": {},
   "outputs": [],
   "source": [
    "predictions = pygad.nn.predict(last_layer=output_layer, data_inputs=data_inputs)"
   ]
  },
  {
   "cell_type": "code",
   "execution_count": 872,
   "id": "a89ebf42",
   "metadata": {},
   "outputs": [
    {
     "name": "stdout",
     "output_type": "stream",
     "text": [
      "Number of correct classifications : 3200.\n",
      "Number of wrong classifications : 2080.\n",
      "Classification accuracy : 60.60606060606061.\n"
     ]
    }
   ],
   "source": [
    "num_wrong = numpy.where(predictions != data_outputs)[0]\n",
    "num_correct = data_outputs.size - num_wrong.size\n",
    "accuracy = 100 * (num_correct/data_outputs.size)\n",
    "print(\"Number of correct classifications : {num_correct}.\".format(num_correct=num_correct))\n",
    "print(\"Number of wrong classifications : {num_wrong}.\".format(num_wrong=num_wrong.size))\n",
    "print(\"Classification accuracy : {accuracy}.\".format(accuracy=accuracy))"
   ]
  },
  {
   "cell_type": "code",
   "execution_count": null,
   "id": "99789c3e",
   "metadata": {},
   "outputs": [],
   "source": []
  }
 ],
 "metadata": {
  "kernelspec": {
   "display_name": "Python 3 (ipykernel)",
   "language": "python",
   "name": "python3"
  },
  "language_info": {
   "codemirror_mode": {
    "name": "ipython",
    "version": 3
   },
   "file_extension": ".py",
   "mimetype": "text/x-python",
   "name": "python",
   "nbconvert_exporter": "python",
   "pygments_lexer": "ipython3",
   "version": "3.9.12"
  }
 },
 "nbformat": 4,
 "nbformat_minor": 5
}
