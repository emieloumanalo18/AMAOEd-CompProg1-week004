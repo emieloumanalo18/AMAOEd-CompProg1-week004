{
 "cells": [
  {
   "cell_type": "code",
   "execution_count": 15,
   "id": "939e70fd",
   "metadata": {},
   "outputs": [],
   "source": [
    "import os\n",
    "import matplotlib.pyplot as plt\n",
    "import cv2\n",
    "import shutil\n",
    "import random"
   ]
  },
  {
   "cell_type": "code",
   "execution_count": 55,
   "id": "dc23b1c2",
   "metadata": {},
   "outputs": [
    {
     "data": {
      "text/plain": [
       "['black_dress',\n",
       " 'black_pants',\n",
       " 'black_shirt',\n",
       " 'black_shoes',\n",
       " 'black_shorts',\n",
       " 'black_suit',\n",
       " 'blue_dress',\n",
       " 'blue_pants',\n",
       " 'blue_shirt',\n",
       " 'blue_shoes',\n",
       " 'blue_shorts',\n",
       " 'brown_hoodie',\n",
       " 'brown_pants',\n",
       " 'brown_shoes',\n",
       " 'green_pants',\n",
       " 'green_shirt',\n",
       " 'green_shoes',\n",
       " 'green_shorts',\n",
       " 'green_suit',\n",
       " 'pink_hoodie',\n",
       " 'pink_pants',\n",
       " 'pink_skirt',\n",
       " 'red_dress',\n",
       " 'red_hoodie',\n",
       " 'red_pants',\n",
       " 'red_shirt',\n",
       " 'red_shoes',\n",
       " 'silver_shoes',\n",
       " 'silver_skirt',\n",
       " 'test',\n",
       " 'train',\n",
       " 'white_dress',\n",
       " 'white_pants',\n",
       " 'white_shoes',\n",
       " 'white_shorts',\n",
       " 'white_suit',\n",
       " 'yellow_dress',\n",
       " 'yellow_shorts',\n",
       " 'yellow_skirt']"
      ]
     },
     "execution_count": 55,
     "metadata": {},
     "output_type": "execute_result"
    }
   ],
   "source": [
    "#check list of subfolder\n",
    "dir = 'C:\\\\Users\\\\emielou\\\\Downloads\\\\Data\\\\'\n",
    "os.listdir(dir)\n",
    "# print(len(directory)) // number of subfolder is 39 "
   ]
  },
  {
   "cell_type": "code",
   "execution_count": 17,
   "id": "af0189de",
   "metadata": {},
   "outputs": [
    {
     "name": "stdout",
     "output_type": "stream",
     "text": [
      "Requirement already satisfied: split-folders in c:\\users\\emielou\\anaconda3\\lib\\site-packages (0.5.1)\n",
      "Note: you may need to restart the kernel to use updated packages.\n"
     ]
    }
   ],
   "source": [
    "pip install split-folders"
   ]
  },
  {
   "cell_type": "code",
   "execution_count": 27,
   "id": "9a391555",
   "metadata": {},
   "outputs": [
    {
     "name": "stderr",
     "output_type": "stream",
     "text": [
      "Copying files: 5280 files [00:07, 662.24 files/s]\n"
     ]
    }
   ],
   "source": [
    "import splitfolders as split\n",
    "\n",
    "output_path = \"C:\\\\Users\\\\emielou\\\\Downloads\\\\dataset\\\\\"\n",
    "\n",
    "### split for train :validation set == 75:20:05\n",
    "split.ratio(dir, output=output_path, seed=254, ratio=(.75, .20,.05))"
   ]
  },
  {
   "cell_type": "code",
   "execution_count": 48,
   "id": "5f9525af",
   "metadata": {},
   "outputs": [
    {
     "name": "stdout",
     "output_type": "stream",
     "text": [
      "Train set size:  3947\n",
      "validation set size:  3947\n",
      "Test set size:  294\n"
     ]
    }
   ],
   "source": [
    "## set path\n",
    "train_data_path = 'C:\\\\Users\\\\emielou\\\\Downloads\\\\dataset\\\\train'\n",
    "validation_data_path = 'C:\\\\Users\\\\emielou\\\\Downloads\\\\dataset\\\\val'\n",
    "test_data_path = 'C:\\\\Users\\\\emielou\\\\Downloads\\\\dataset\\\\test'\n",
    "total_train = 0\n",
    "\n",
    "#Checking number of Images of every sub file\n",
    "for root, dirs, files in os.walk(train_data_path):\n",
    "    total_train += len(files)\n",
    "print('Train set size: ',total_train)\n",
    "\n",
    "\n",
    "total_val = 0\n",
    "for root, dirs, files in os.walk(validation_data_path):\n",
    "    total_val += len(files)\n",
    "print('validation set size: ',total_train)\n",
    "\n",
    "total_test = 0\n",
    "for root, dirs, files in os.walk(test_data_path):\n",
    "    total_test += len(files)\n",
    "print('Test set size: ',total_test)\n"
   ]
  },
  {
   "cell_type": "code",
   "execution_count": 61,
   "id": "0558f7c5",
   "metadata": {},
   "outputs": [],
   "source": [
    "#import necessary packages\n",
    "import numpy as np\n",
    "from keras.preprocessing.image import ImageDataGenerator\n",
    "import matplotlib.pyplot  as plt"
   ]
  },
  {
   "cell_type": "code",
   "execution_count": 62,
   "id": "c5c3081a",
   "metadata": {},
   "outputs": [],
   "source": [
    "# set image W and H\n",
    "img_width=150\n",
    "img_height =150\n",
    "\n",
    "#CNN architecture parameters\n",
    "batch_size = 32\n",
    "samples_per_epoch = 1000\n",
    "validation_steps = 32\n",
    "no_filters1 = 32\n",
    "no_filters2 = 64\n",
    "no_filters3=128\n",
    "conv1_size = 3\n",
    "conv2_size = 3\n",
    "conv3_size=5\n",
    "pool_size = 2\n",
    "\n",
    "# num of subfolder\n",
    "classes_num = 39\n",
    "\n",
    "## L rate\n",
    "lr = 0.001\n",
    "epochs=200"
   ]
  },
  {
   "cell_type": "code",
   "execution_count": 63,
   "id": "191a1540",
   "metadata": {},
   "outputs": [
    {
     "name": "stdout",
     "output_type": "stream",
     "text": [
      "Found 3947 images belonging to 39 classes.\n",
      "Found 1039 images belonging to 39 classes.\n"
     ]
    }
   ],
   "source": [
    "train_datagen = ImageDataGenerator(\n",
    "    rotation_range=20,\n",
    "    zoom_range=0.15,\n",
    "    width_shift_range=0.2,\n",
    "    height_shift_range=0.2,\n",
    "    shear_range=0.15,\n",
    "    horizontal_flip=True,\n",
    "    fill_mode=\"nearest\",rescale=1. / 255)\n",
    "test_datagen = ImageDataGenerator(rescale=1. / 255)\n",
    "\n",
    "train_generator = train_datagen.flow_from_directory(\n",
    "    train_data_path,\n",
    "    target_size=(img_height, img_width),\n",
    "    batch_size=batch_size,\n",
    "    class_mode='categorical')\n",
    "\n",
    "validation_generator = test_datagen.flow_from_directory(\n",
    "    validation_data_path,\n",
    "    target_size=(img_height, img_width),\n",
    "    batch_size=batch_size,\n",
    "    class_mode='categorical')"
   ]
  }
 ],
 "metadata": {
  "kernelspec": {
   "display_name": "Python 3 (ipykernel)",
   "language": "python",
   "name": "python3"
  },
  "language_info": {
   "codemirror_mode": {
    "name": "ipython",
    "version": 3
   },
   "file_extension": ".py",
   "mimetype": "text/x-python",
   "name": "python",
   "nbconvert_exporter": "python",
   "pygments_lexer": "ipython3",
   "version": "3.9.12"
  }
 },
 "nbformat": 4,
 "nbformat_minor": 5
}
