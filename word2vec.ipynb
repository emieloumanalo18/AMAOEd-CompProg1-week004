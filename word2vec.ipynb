{
 "cells": [
  {
   "cell_type": "code",
   "execution_count": 1,
   "id": "4971278e",
   "metadata": {},
   "outputs": [],
   "source": [
    "import chardet\n",
    "import pandas as pd"
   ]
  },
  {
   "cell_type": "code",
   "execution_count": 2,
   "id": "f252d740",
   "metadata": {},
   "outputs": [],
   "source": [
    "file = 'C:/Users/emielou/Desktop/Recommendation/Products_Dataset.csv'  \n",
    "\n",
    "\n",
    "def loadcsv(file):\n",
    "    \n",
    "    df = pd.DataFrame()\n",
    "    \n",
    "    if file.endswith(\".csv\"):\n",
    "            with open(file, \"rb\") as fp:\n",
    "                encoding = chardet.detect(fp.read())[\"encoding\"]\n",
    "            df = pd.concat(\n",
    "                [\n",
    "                    df,\n",
    "                    pd.read_csv(file, encoding=encoding),\n",
    "                ],\n",
    "                axis=0,\n",
    "            )\n",
    "    return df\n",
    "\n",
    "df = loadcsv(file)"
   ]
  },
  {
   "cell_type": "code",
   "execution_count": 3,
   "id": "749e445c",
   "metadata": {
    "scrolled": true
   },
   "outputs": [
    {
     "data": {
      "text/plain": [
       "order                      0\n",
       "url                        0\n",
       "product-link               0\n",
       "Name                       4\n",
       "Price                     74\n",
       "Description              710\n",
       "Ratings                  124\n",
       "Image-src                  0\n",
       "e_commerce                 0\n",
       "ClassifiedFashionType      0\n",
       "CustomerID                 0\n",
       "dtype: int64"
      ]
     },
     "execution_count": 3,
     "metadata": {},
     "output_type": "execute_result"
    }
   ],
   "source": [
    "df.isnull().sum()"
   ]
  },
  {
   "cell_type": "code",
   "execution_count": 4,
   "id": "24d1cf79",
   "metadata": {},
   "outputs": [],
   "source": [
    "df.dropna(inplace=True)"
   ]
  },
  {
   "cell_type": "code",
   "execution_count": 5,
   "id": "ff0b12da",
   "metadata": {},
   "outputs": [
    {
     "data": {
      "text/plain": [
       "order                    0\n",
       "url                      0\n",
       "product-link             0\n",
       "Name                     0\n",
       "Price                    0\n",
       "Description              0\n",
       "Ratings                  0\n",
       "Image-src                0\n",
       "e_commerce               0\n",
       "ClassifiedFashionType    0\n",
       "CustomerID               0\n",
       "dtype: int64"
      ]
     },
     "execution_count": 5,
     "metadata": {},
     "output_type": "execute_result"
    }
   ],
   "source": [
    "df.isnull().sum()"
   ]
  },
  {
   "cell_type": "code",
   "execution_count": 6,
   "id": "581d72d2",
   "metadata": {},
   "outputs": [
    {
     "data": {
      "text/html": [
       "<div>\n",
       "<style scoped>\n",
       "    .dataframe tbody tr th:only-of-type {\n",
       "        vertical-align: middle;\n",
       "    }\n",
       "\n",
       "    .dataframe tbody tr th {\n",
       "        vertical-align: top;\n",
       "    }\n",
       "\n",
       "    .dataframe thead th {\n",
       "        text-align: right;\n",
       "    }\n",
       "</style>\n",
       "<table border=\"1\" class=\"dataframe\">\n",
       "  <thead>\n",
       "    <tr style=\"text-align: right;\">\n",
       "      <th></th>\n",
       "      <th>order</th>\n",
       "      <th>url</th>\n",
       "      <th>product-link</th>\n",
       "      <th>Name</th>\n",
       "      <th>Price</th>\n",
       "      <th>Description</th>\n",
       "      <th>Ratings</th>\n",
       "      <th>Image-src</th>\n",
       "      <th>e_commerce</th>\n",
       "      <th>ClassifiedFashionType</th>\n",
       "      <th>CustomerID</th>\n",
       "    </tr>\n",
       "  </thead>\n",
       "  <tbody>\n",
       "    <tr>\n",
       "      <th>0</th>\n",
       "      <td>1660111409-588</td>\n",
       "      <td>https://www.amazon.com/s?k=dress&amp;i=fashion&amp;bbn...</td>\n",
       "      <td>https://www.amazon.com/Maggy-London-Womens-Pet...</td>\n",
       "      <td>Maggy London Women's Petite Wide Waistband Fit...</td>\n",
       "      <td>$46.41</td>\n",
       "      <td>Maggy London Petite's WIDE WAISTBAND FIT and F...</td>\n",
       "      <td>5.0 out of 5 stars</td>\n",
       "      <td>https://images-na.ssl-images-amazon.com/images...</td>\n",
       "      <td>Amzon</td>\n",
       "      <td>modernstyle</td>\n",
       "      <td>A1</td>\n",
       "    </tr>\n",
       "    <tr>\n",
       "      <th>1</th>\n",
       "      <td>1660110650-464</td>\n",
       "      <td>https://www.amazon.com/s?k=dress&amp;i=fashion&amp;bbn...</td>\n",
       "      <td>https://www.amazon.com/Adrianna-Papell-Womens-...</td>\n",
       "      <td>Adrianna Papell Women's Metallic Foil Gown</td>\n",
       "      <td>$166.09</td>\n",
       "      <td>Metallic Foil Mesh Suprlice Long Gown With Flu...</td>\n",
       "      <td>3.5 out of 5 stars</td>\n",
       "      <td>https://images-na.ssl-images-amazon.com/images...</td>\n",
       "      <td>Amzon</td>\n",
       "      <td>modernstyle</td>\n",
       "      <td>A2</td>\n",
       "    </tr>\n",
       "    <tr>\n",
       "      <th>2</th>\n",
       "      <td>1660109927-142</td>\n",
       "      <td>https://www.amazon.com/s?k=dress&amp;i=fashion&amp;bbn...</td>\n",
       "      <td>https://www.amazon.com/Adrianna-Papell-Womens-...</td>\n",
       "      <td>Adrianna Papell Women's Embroidered Tea Length...</td>\n",
       "      <td>$108.92</td>\n",
       "      <td>This feminine and classic fit and flare style ...</td>\n",
       "      <td>3.8 out of 5 stars</td>\n",
       "      <td>https://images-na.ssl-images-amazon.com/images...</td>\n",
       "      <td>Amzon</td>\n",
       "      <td>modernstyle</td>\n",
       "      <td>A3</td>\n",
       "    </tr>\n",
       "    <tr>\n",
       "      <th>3</th>\n",
       "      <td>1660110490-401</td>\n",
       "      <td>https://www.amazon.com/s?k=dress&amp;i=fashion&amp;bbn...</td>\n",
       "      <td>https://www.amazon.com/Alex-Evenings-Womens-Le...</td>\n",
       "      <td>Alex Evenings Women's Two Piece Tea Length Moc...</td>\n",
       "      <td>$155.67</td>\n",
       "      <td>This tea length mock jacket dress features an ...</td>\n",
       "      <td>4.0 out of 5 stars</td>\n",
       "      <td>https://images-na.ssl-images-amazon.com/images...</td>\n",
       "      <td>Amzon</td>\n",
       "      <td>modernstyle</td>\n",
       "      <td>A4</td>\n",
       "    </tr>\n",
       "    <tr>\n",
       "      <th>5</th>\n",
       "      <td>1660110060-200</td>\n",
       "      <td>https://www.amazon.com/s?k=dress&amp;i=fashion&amp;bbn...</td>\n",
       "      <td>https://www.amazon.com/Adrianna-Papell-Womens-...</td>\n",
       "      <td>Adrianna Papell Women's Crepe Bell Sleeve Shea...</td>\n",
       "      <td>$65.62</td>\n",
       "      <td>The perfect dress for any occasion. Our stream...</td>\n",
       "      <td>4.0 out of 5 stars</td>\n",
       "      <td>https://images-na.ssl-images-amazon.com/images...</td>\n",
       "      <td>Amzon</td>\n",
       "      <td>modernstyle</td>\n",
       "      <td>A6</td>\n",
       "    </tr>\n",
       "  </tbody>\n",
       "</table>\n",
       "</div>"
      ],
      "text/plain": [
       "            order                                                url  \\\n",
       "0  1660111409-588  https://www.amazon.com/s?k=dress&i=fashion&bbn...   \n",
       "1  1660110650-464  https://www.amazon.com/s?k=dress&i=fashion&bbn...   \n",
       "2  1660109927-142  https://www.amazon.com/s?k=dress&i=fashion&bbn...   \n",
       "3  1660110490-401  https://www.amazon.com/s?k=dress&i=fashion&bbn...   \n",
       "5  1660110060-200  https://www.amazon.com/s?k=dress&i=fashion&bbn...   \n",
       "\n",
       "                                        product-link  \\\n",
       "0  https://www.amazon.com/Maggy-London-Womens-Pet...   \n",
       "1  https://www.amazon.com/Adrianna-Papell-Womens-...   \n",
       "2  https://www.amazon.com/Adrianna-Papell-Womens-...   \n",
       "3  https://www.amazon.com/Alex-Evenings-Womens-Le...   \n",
       "5  https://www.amazon.com/Adrianna-Papell-Womens-...   \n",
       "\n",
       "                                                Name    Price  \\\n",
       "0  Maggy London Women's Petite Wide Waistband Fit...   $46.41   \n",
       "1         Adrianna Papell Women's Metallic Foil Gown  $166.09   \n",
       "2  Adrianna Papell Women's Embroidered Tea Length...  $108.92   \n",
       "3  Alex Evenings Women's Two Piece Tea Length Moc...  $155.67   \n",
       "5  Adrianna Papell Women's Crepe Bell Sleeve Shea...   $65.62   \n",
       "\n",
       "                                         Description             Ratings  \\\n",
       "0  Maggy London Petite's WIDE WAISTBAND FIT and F...  5.0 out of 5 stars   \n",
       "1  Metallic Foil Mesh Suprlice Long Gown With Flu...  3.5 out of 5 stars   \n",
       "2  This feminine and classic fit and flare style ...  3.8 out of 5 stars   \n",
       "3  This tea length mock jacket dress features an ...  4.0 out of 5 stars   \n",
       "5  The perfect dress for any occasion. Our stream...  4.0 out of 5 stars   \n",
       "\n",
       "                                           Image-src e_commerce   \\\n",
       "0  https://images-na.ssl-images-amazon.com/images...       Amzon   \n",
       "1  https://images-na.ssl-images-amazon.com/images...       Amzon   \n",
       "2  https://images-na.ssl-images-amazon.com/images...       Amzon   \n",
       "3  https://images-na.ssl-images-amazon.com/images...       Amzon   \n",
       "5  https://images-na.ssl-images-amazon.com/images...       Amzon   \n",
       "\n",
       "  ClassifiedFashionType CustomerID  \n",
       "0           modernstyle         A1  \n",
       "1           modernstyle         A2  \n",
       "2           modernstyle         A3  \n",
       "3           modernstyle         A4  \n",
       "5           modernstyle         A6  "
      ]
     },
     "execution_count": 6,
     "metadata": {},
     "output_type": "execute_result"
    }
   ],
   "source": [
    "df.head()"
   ]
  },
  {
   "cell_type": "code",
   "execution_count": 7,
   "id": "5869acfc",
   "metadata": {},
   "outputs": [
    {
     "data": {
      "text/plain": [
       "(2735, 11)"
      ]
     },
     "execution_count": 7,
     "metadata": {},
     "output_type": "execute_result"
    }
   ],
   "source": [
    "df.shape"
   ]
  },
  {
   "cell_type": "code",
   "execution_count": 8,
   "id": "595f2dae",
   "metadata": {},
   "outputs": [
    {
     "data": {
      "text/plain": [
       "order                    2735\n",
       "url                        14\n",
       "product-link             2735\n",
       "Name                     1031\n",
       "Price                     754\n",
       "Description               898\n",
       "Ratings                    22\n",
       "Image-src                   1\n",
       "e_commerce                  1\n",
       "ClassifiedFashionType      10\n",
       "CustomerID                388\n",
       "dtype: int64"
      ]
     },
     "execution_count": 8,
     "metadata": {},
     "output_type": "execute_result"
    }
   ],
   "source": [
    "df.nunique()"
   ]
  },
  {
   "cell_type": "code",
   "execution_count": 14,
   "id": "7032f0c9",
   "metadata": {},
   "outputs": [
    {
     "data": {
      "text/plain": [
       "array(['modernstyle', 'punkfashionstyle', 'sportssyle', 'stylishstyle',\n",
       "       'creativestyle', 'sexystyle', 'vibrantfashionstyle',\n",
       "       'girlnextdoorfashionstyle', 'sportsstyle', 'tomboyfashionstyle'],\n",
       "      dtype=object)"
      ]
     },
     "execution_count": 14,
     "metadata": {},
     "output_type": "execute_result"
    }
   ],
   "source": [
    "df['ClassifiedFashionType'].unique()"
   ]
  },
  {
   "cell_type": "code",
   "execution_count": null,
   "id": "5af27099",
   "metadata": {},
   "outputs": [],
   "source": [
    "import pandas as pd\n",
    "import numpy as np\n",
    "import re\n",
    "import nltk\n",
    "pd.set_option('display.max_columns', None)"
   ]
  },
  {
   "cell_type": "code",
   "execution_count": null,
   "id": "d30236c8",
   "metadata": {},
   "outputs": [],
   "source": [
    "df.columns"
   ]
  },
  {
   "cell_type": "code",
   "execution_count": null,
   "id": "8cad5c0a",
   "metadata": {},
   "outputs": [],
   "source": [
    "df['Description'][0]"
   ]
  },
  {
   "cell_type": "code",
   "execution_count": null,
   "id": "19065cc2",
   "metadata": {},
   "outputs": [],
   "source": [
    "df['clean_description'] = df['Description'].str.lower()\n",
    "df['clean_description'] = df['clean_description'].apply(lambda x: re.sub('[^a-zA-Z]', ' ', x))\n",
    "df['clean_description'] = df['clean_description'].apply(lambda x: re.sub('\\s+', ' ', x))\n",
    "df['clean_description']"
   ]
  },
  {
   "cell_type": "code",
   "execution_count": null,
   "id": "16b41723",
   "metadata": {},
   "outputs": [],
   "source": [
    "df['clean_description'] = df['clean_description'].apply(lambda x: nltk.word_tokenize(x))\n",
    "df['clean_description']"
   ]
  },
  {
   "cell_type": "code",
   "execution_count": null,
   "id": "756b5ba3",
   "metadata": {},
   "outputs": [],
   "source": [
    "stop_words = nltk.corpus.stopwords.words('english')\n",
    "d = []\n",
    "for sentence in df['clean_description']:\n",
    "    temp = []\n",
    "    for word in sentence:\n",
    "        if word not in stop_words and len(word) >= 3:\n",
    "            temp.append(word)\n",
    "    d.append(temp)\n",
    "d[1]"
   ]
  },
  {
   "cell_type": "code",
   "execution_count": null,
   "id": "81c02866",
   "metadata": {},
   "outputs": [],
   "source": [
    "df['clean_description'] = d"
   ]
  },
  {
   "cell_type": "code",
   "execution_count": null,
   "id": "562b53a6",
   "metadata": {},
   "outputs": [],
   "source": [
    "df['clean_description'][0]"
   ]
  },
  {
   "cell_type": "code",
   "execution_count": null,
   "id": "73bd2869",
   "metadata": {},
   "outputs": [],
   "source": [
    "df.columns"
   ]
  },
  {
   "cell_type": "code",
   "execution_count": null,
   "id": "c4b102d2",
   "metadata": {},
   "outputs": [],
   "source": [
    "df.dtypes"
   ]
  },
  {
   "cell_type": "code",
   "execution_count": null,
   "id": "d9ab769c",
   "metadata": {},
   "outputs": [],
   "source": [
    "df['clean_fashiontype'] = df['ClassifiedFashionType'].str.lower()"
   ]
  },
  {
   "cell_type": "code",
   "execution_count": null,
   "id": "021314e8",
   "metadata": {},
   "outputs": [],
   "source": [
    "df['clean_fashiontype'] "
   ]
  },
  {
   "cell_type": "code",
   "execution_count": null,
   "id": "c64e56eb",
   "metadata": {},
   "outputs": [],
   "source": [
    "df.columns"
   ]
  },
  {
   "cell_type": "code",
   "execution_count": null,
   "id": "875ee43f",
   "metadata": {},
   "outputs": [],
   "source": [
    "df = df.set_index('Name')[['clean_fashiontype', 'clean_description']]\n",
    "df.head()"
   ]
  },
  {
   "cell_type": "code",
   "execution_count": null,
   "id": "a6b53750",
   "metadata": {},
   "outputs": [],
   "source": [
    "df['corpus'] = ''\n",
    "columns = df.columns\n",
    "\n",
    "for index, row in df.iterrows():\n",
    "    words = ''\n",
    "    for col in columns:\n",
    "        if col != 'clean_fashiontype':\n",
    "            words = words+''.join(row[col])+''\n",
    "        else:\n",
    "            words = words+row[col]+' '\n",
    "    row['corpus']  =words\n",
    "    \n",
    "df.drop(columns = [col for col in df.columns if col != 'corpus'], inplace= True)"
   ]
  },
  {
   "cell_type": "code",
   "execution_count": null,
   "id": "97cabb0c",
   "metadata": {},
   "outputs": [],
   "source": [
    "df['corpus'][0]"
   ]
  },
  {
   "cell_type": "code",
   "execution_count": null,
   "id": "cbed05aa",
   "metadata": {},
   "outputs": [],
   "source": [
    "df['corpus'][1]"
   ]
  },
  {
   "cell_type": "code",
   "execution_count": null,
   "id": "93d02a9e",
   "metadata": {},
   "outputs": [],
   "source": [
    "df.head()"
   ]
  },
  {
   "cell_type": "code",
   "execution_count": null,
   "id": "b3f3a3cf",
   "metadata": {},
   "outputs": [],
   "source": [
    "df['corpus'].nunique()"
   ]
  },
  {
   "cell_type": "code",
   "execution_count": null,
   "id": "8b61f899",
   "metadata": {},
   "outputs": [],
   "source": [
    "df.shape"
   ]
  },
  {
   "cell_type": "code",
   "execution_count": null,
   "id": "b0a26ef5",
   "metadata": {},
   "outputs": [],
   "source": [
    "settings= {\n",
    "    'window_size': 2,\n",
    "    'n_dimesnion': 5,\n",
    "    'epochs' : 5000,\n",
    "    'learning_rate' : 0.01\n",
    "    }"
   ]
  },
  {
   "cell_type": "code",
   "execution_count": null,
   "id": "476e6908",
   "metadata": {},
   "outputs": [],
   "source": [
    "import numpy as np\n",
    "import re\n",
    "from collections import defaultdict\n",
    "\n",
    "\n",
    "class word_to_vector():\n",
    "    def __init__ (self):\n",
    "        self.n = settings['n_dimesnion']\n",
    "        self.eta = settings['learning_rate']\n",
    "        self.epochs = settings['epochs']\n",
    "        self.window = settings['window_size']\n",
    "        pass\n",
    "    \n",
    "    \n",
    "    def generate_training_data(self, settings, corpus):\n",
    "        word_counts = defaultdict(int)\n",
    "        for row in corpus:\n",
    "            for word in row:\n",
    "                word_counts[word] += 1\n",
    "\n",
    "        self.v_count = len(word_counts.keys())\n",
    "\n",
    "        self.words_list = sorted(list(word_counts.keys()),reverse=False)\n",
    "        self.word_index = dict((word, i) for i, word in enumerate(self.words_list))\n",
    "        self.index_word = dict((i, word) for i, word in enumerate(self.words_list))\n",
    "\n",
    "        training_data = []\n",
    "        for sentence in corpus:\n",
    "            sent_len = len(sentence)\n",
    "\n",
    "            for i, word in enumerate(sentence):\n",
    "                w_target = self.word2onehot(sentence[i])\n",
    "\n",
    "                w_context = []\n",
    "                for j in range(i-self.window, i+self.window+1):\n",
    "                    if j!=i and j<=sent_len-1 and j>=0:\n",
    "                        w_context.append(self.word2onehot(sentence[j]))\n",
    "                training_data.append([w_target, w_context])\n",
    "        return np.array(training_data, dtype=object)\n",
    "\n",
    "\n",
    "    def softmax(self, x):\n",
    "        e_x = np.exp(x - np.max(x))\n",
    "        return e_x / e_x.sum(axis=0)\n",
    "\n",
    "\n",
    "    def word2onehot(self, word):\n",
    "        word_vec = [0 for i in range(0, self.v_count)]\n",
    "        word_index = self.word_index[word]\n",
    "        word_vec[word_index] = 1\n",
    "        return word_vec\n",
    "\n",
    "\n",
    "\n",
    "    def forward_pass(self, x):\n",
    "        h = np.dot(self.w1.T, x)\n",
    "        u = np.dot(self.w2.T, h)\n",
    "        y_c = self.softmax(u)\n",
    "        return y_c, h, u\n",
    "                \n",
    "\n",
    "    def backprop(self, e, h, x): \n",
    "        dl_dw2 = np.outer(h, e)\n",
    "        dl_dw1 = np.outer(x, np.dot(self.w2, e.T))\n",
    "        \n",
    "        self.w1 = self.w1 - (self.eta * dl_dw1)\n",
    "        self.w2 = self.w2 - (self.eta * dl_dw2)\n",
    "\n",
    "\n",
    "\n",
    "    def train(self, training_data):\n",
    "        self.w1 = np.random.uniform(-1, 1, (self.v_count, self.n))    \n",
    "        self.w2 = np.random.uniform(-1, 1, (self.n, self.v_count))   \n",
    "             \n",
    "        \n",
    "        for i in range(self.epochs): \n",
    "            bt = np.random.choice(np.shape(training_data)[0], size = 10)\n",
    "            _training_data = training_data[bt, :]\n",
    "                       \n",
    "            for wt, wc in _training_data:\n",
    "                w_t = wt\n",
    "                w_c = wc\n",
    "#                 return wt, wc \n",
    "        \n",
    "        \n",
    "        for i in range(self.epochs):\n",
    "            self.loss = 0\n",
    "            \n",
    "            y_pred, h, u = self.forward_pass(w_t)\n",
    "            EI = np.sum([np.subtract(y_pred, word) for word in w_c], axis=0)\n",
    "            self.backprop(EI, h, w_t)\n",
    "                \n",
    "            if i % 100 == 0:\n",
    "                self.loss += -np.sum([u[word.index(1)] for word in w_c]) + len(w_c) * np.log(np.sum(np.exp(u)))\n",
    "                print('Iteration: ',i, 'Loss: ', self.loss)\n",
    "            \n",
    "#         return np.shape(self.w1)   \n",
    "        \n",
    "        \n",
    "    \n",
    "\n",
    "    def word_vec(self, word):\n",
    "        w_index = self.word_index[word]\n",
    "        v_w = self.w1[w_index]\n",
    "        return v_w\n",
    "    \n",
    "    \n",
    "    def vec_sim(self, word, top_n):\n",
    "        v_w1 = self.word_vec(word)\n",
    "        word_sim = {}\n",
    "\n",
    "        for i in range(self.v_count):\n",
    "            v_w2 = self.w1[i]\n",
    "            theta_sum = np.dot(v_w1, v_w2)\n",
    "            theta_den = np.linalg.norm(v_w1) * np.linalg.norm(v_w2)\n",
    "            theta = theta_sum / theta_den\n",
    "    \n",
    "            word = self.index_word[i]\n",
    "            word_sim[word] = theta\n",
    "\n",
    "        words_sorted = sorted(word_sim.items(), key=lambda kv: kv[1], reverse=True)\n",
    "        \n",
    "        get_word = []\n",
    "        get_sim = []\n",
    "        for word, sim in words_sorted[:top_n]:\n",
    "            get_word.append(word)\n",
    "            get_sim.append(sim)\n",
    "            \n",
    "        return get_word, get_sim"
   ]
  },
  {
   "cell_type": "code",
   "execution_count": null,
   "id": "d7cbf7b3",
   "metadata": {},
   "outputs": [],
   "source": [
    "token = []\n",
    "for word in df['corpus']:\n",
    "    token.append(word.split())  \n",
    "    \n",
    "len(token)"
   ]
  },
  {
   "cell_type": "code",
   "execution_count": null,
   "id": "932f8ff0",
   "metadata": {},
   "outputs": [],
   "source": [
    "w2vec = word_to_vector()\n",
    "training_data = w2vec.generate_training_data(settings, token)\n",
    "len(training_data)"
   ]
  },
  {
   "cell_type": "code",
   "execution_count": null,
   "id": "8180df85",
   "metadata": {},
   "outputs": [],
   "source": [
    "w2vec.train(training_data)"
   ]
  },
  {
   "cell_type": "code",
   "execution_count": null,
   "id": "8b0359f1",
   "metadata": {
    "scrolled": true
   },
   "outputs": [],
   "source": [
    "vec = w2vec.word_vec(\"modernstyle\")\n",
    "vec"
   ]
  },
  {
   "cell_type": "code",
   "execution_count": null,
   "id": "0557a004",
   "metadata": {},
   "outputs": [],
   "source": [
    "simlar_word , simlar_vec= w2vec.vec_sim('modernstyle', 10)"
   ]
  },
  {
   "cell_type": "code",
   "execution_count": null,
   "id": "aeebf3a8",
   "metadata": {},
   "outputs": [],
   "source": [
    "b = 'modernstyle'\n",
    "a = b+'metallicfoilmeshsuprlicelonggownfluttersleeve', 'modernstyle metallicfoilmeshsuprlicelonggownfluttersleeve'\n",
    "\n",
    "# len(a)\n",
    "\n",
    "for i in range(len(a)):\n",
    "    q  = df[df['corpus'] == a[i]].index.tolist()\n",
    "    \n",
    "q"
   ]
  },
  {
   "cell_type": "code",
   "execution_count": null,
   "id": "ef360011",
   "metadata": {},
   "outputs": [],
   "source": []
  }
 ],
 "metadata": {
  "kernelspec": {
   "display_name": "Python 3 (ipykernel)",
   "language": "python",
   "name": "python3"
  },
  "language_info": {
   "codemirror_mode": {
    "name": "ipython",
    "version": 3
   },
   "file_extension": ".py",
   "mimetype": "text/x-python",
   "name": "python",
   "nbconvert_exporter": "python",
   "pygments_lexer": "ipython3",
   "version": "3.9.12"
  }
 },
 "nbformat": 4,
 "nbformat_minor": 5
}
