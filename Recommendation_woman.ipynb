{
 "cells": [
  {
   "cell_type": "code",
   "execution_count": 1,
   "id": "26ed28e9",
   "metadata": {},
   "outputs": [],
   "source": [
    "import chardet\n",
    "import pandas as pd"
   ]
  },
  {
   "cell_type": "code",
   "execution_count": 2,
   "id": "13500e0d",
   "metadata": {},
   "outputs": [],
   "source": [
    "file = 'C:/Users/emielou/Desktop/Recommendation/Woman_Dataset.csv'  \n",
    "\n",
    "\n",
    "def loadcsv(file):\n",
    "    \n",
    "    df = pd.DataFrame()\n",
    "    \n",
    "    if file.endswith(\".csv\"):\n",
    "            with open(file, \"rb\") as fp:\n",
    "                encoding = chardet.detect(fp.read())[\"encoding\"]\n",
    "            df = pd.concat(\n",
    "                [\n",
    "                    df,\n",
    "                    pd.read_csv(file, encoding=encoding),\n",
    "                ],\n",
    "                axis=0,\n",
    "            )\n",
    "    return df\n",
    "\n",
    "df = loadcsv(file)"
   ]
  },
  {
   "cell_type": "code",
   "execution_count": 3,
   "id": "9e34d739",
   "metadata": {},
   "outputs": [
    {
     "data": {
      "text/html": [
       "<div>\n",
       "<style scoped>\n",
       "    .dataframe tbody tr th:only-of-type {\n",
       "        vertical-align: middle;\n",
       "    }\n",
       "\n",
       "    .dataframe tbody tr th {\n",
       "        vertical-align: top;\n",
       "    }\n",
       "\n",
       "    .dataframe thead th {\n",
       "        text-align: right;\n",
       "    }\n",
       "</style>\n",
       "<table border=\"1\" class=\"dataframe\">\n",
       "  <thead>\n",
       "    <tr style=\"text-align: right;\">\n",
       "      <th></th>\n",
       "      <th>web-scraper-order</th>\n",
       "      <th>web-scraper-start-url</th>\n",
       "      <th>product</th>\n",
       "      <th>product-href</th>\n",
       "      <th>Name</th>\n",
       "      <th>Price</th>\n",
       "      <th>Description</th>\n",
       "      <th>Ratings</th>\n",
       "      <th>Image-src</th>\n",
       "      <th>eCommerce</th>\n",
       "      <th>Classification</th>\n",
       "    </tr>\n",
       "  </thead>\n",
       "  <tbody>\n",
       "    <tr>\n",
       "      <th>0</th>\n",
       "      <td>1663595283-1350</td>\n",
       "      <td>https://www.amazon.com/s?k=vibrant+fashion+for...</td>\n",
       "      <td>NaN</td>\n",
       "      <td>https://www.amazon.com/gp/slredirect/picassoRe...</td>\n",
       "      <td>Women's Long Sleeve Tunic Tops Casual Twist Kn...</td>\n",
       "      <td>$22.99</td>\n",
       "      <td>NaN</td>\n",
       "      <td>4.3 out of 5 stars</td>\n",
       "      <td>https://m.media-amazon.com/images/I/41rnSFMx5E...</td>\n",
       "      <td>Amazon</td>\n",
       "      <td>ModernStyle</td>\n",
       "    </tr>\n",
       "    <tr>\n",
       "      <th>1</th>\n",
       "      <td>1663595288-1351</td>\n",
       "      <td>https://www.amazon.com/s?k=vibrant+fashion+for...</td>\n",
       "      <td>NaN</td>\n",
       "      <td>https://www.amazon.com/gp/slredirect/picassoRe...</td>\n",
       "      <td>TODOLOR Womens T Shirts Long Sleeve V Neck Loo...</td>\n",
       "      <td>$23.86</td>\n",
       "      <td>NaN</td>\n",
       "      <td>5.0 out of 5 stars</td>\n",
       "      <td>https://m.media-amazon.com/images/I/31SkvaCXAg...</td>\n",
       "      <td>Amazon</td>\n",
       "      <td>ModernStyle</td>\n",
       "    </tr>\n",
       "    <tr>\n",
       "      <th>2</th>\n",
       "      <td>1663595297-1352</td>\n",
       "      <td>https://www.amazon.com/s?k=vibrant+fashion+for...</td>\n",
       "      <td>NaN</td>\n",
       "      <td>https://www.amazon.com/gp/slredirect/picassoRe...</td>\n",
       "      <td>SSLR Womens Flamingo Shirt Casual Short Sleeve...</td>\n",
       "      <td>$20.90</td>\n",
       "      <td>NaN</td>\n",
       "      <td>4.5 out of 5 stars</td>\n",
       "      <td>https://m.media-amazon.com/images/I/51hESVorON...</td>\n",
       "      <td>Amazon</td>\n",
       "      <td>ModernStyle</td>\n",
       "    </tr>\n",
       "    <tr>\n",
       "      <th>3</th>\n",
       "      <td>1663595300-1353</td>\n",
       "      <td>https://www.amazon.com/s?k=vibrant+fashion+for...</td>\n",
       "      <td>NaN</td>\n",
       "      <td>https://www.amazon.com/TACVASEN-Athletic-Shirt...</td>\n",
       "      <td>TACVASEN Women's Polo Shirts Short Sleeve T-Sh...</td>\n",
       "      <td>$21.98</td>\n",
       "      <td>Q1: What size should I wear?</td>\n",
       "      <td>4.7 out of 5 stars</td>\n",
       "      <td>https://m.media-amazon.com/images/I/41c79d-MVx...</td>\n",
       "      <td>Amazon</td>\n",
       "      <td>ModernStyle</td>\n",
       "    </tr>\n",
       "    <tr>\n",
       "      <th>4</th>\n",
       "      <td>1663595305-1354</td>\n",
       "      <td>https://www.amazon.com/s?k=vibrant+fashion+for...</td>\n",
       "      <td>NaN</td>\n",
       "      <td>https://www.amazon.com/Amazon-Essentials-Long-...</td>\n",
       "      <td>Amazon Essentials Women's Classic-Fit Long-Sle...</td>\n",
       "      <td>$22.90</td>\n",
       "      <td>Amazon Essentials is focused on creating affor...</td>\n",
       "      <td>4.4 out of 5 stars</td>\n",
       "      <td>https://m.media-amazon.com/images/I/51sJ7k-heV...</td>\n",
       "      <td>Amazon</td>\n",
       "      <td>ModernStyle</td>\n",
       "    </tr>\n",
       "  </tbody>\n",
       "</table>\n",
       "</div>"
      ],
      "text/plain": [
       "  web-scraper-order                              web-scraper-start-url  \\\n",
       "0   1663595283-1350  https://www.amazon.com/s?k=vibrant+fashion+for...   \n",
       "1   1663595288-1351  https://www.amazon.com/s?k=vibrant+fashion+for...   \n",
       "2   1663595297-1352  https://www.amazon.com/s?k=vibrant+fashion+for...   \n",
       "3   1663595300-1353  https://www.amazon.com/s?k=vibrant+fashion+for...   \n",
       "4   1663595305-1354  https://www.amazon.com/s?k=vibrant+fashion+for...   \n",
       "\n",
       "   product                                       product-href  \\\n",
       "0      NaN  https://www.amazon.com/gp/slredirect/picassoRe...   \n",
       "1      NaN  https://www.amazon.com/gp/slredirect/picassoRe...   \n",
       "2      NaN  https://www.amazon.com/gp/slredirect/picassoRe...   \n",
       "3      NaN  https://www.amazon.com/TACVASEN-Athletic-Shirt...   \n",
       "4      NaN  https://www.amazon.com/Amazon-Essentials-Long-...   \n",
       "\n",
       "                                                Name   Price  \\\n",
       "0  Women's Long Sleeve Tunic Tops Casual Twist Kn...  $22.99   \n",
       "1  TODOLOR Womens T Shirts Long Sleeve V Neck Loo...  $23.86   \n",
       "2  SSLR Womens Flamingo Shirt Casual Short Sleeve...  $20.90   \n",
       "3  TACVASEN Women's Polo Shirts Short Sleeve T-Sh...  $21.98   \n",
       "4  Amazon Essentials Women's Classic-Fit Long-Sle...  $22.90   \n",
       "\n",
       "                                         Description             Ratings  \\\n",
       "0                                                NaN  4.3 out of 5 stars   \n",
       "1                                                NaN  5.0 out of 5 stars   \n",
       "2                                                NaN  4.5 out of 5 stars   \n",
       "3                       Q1: What size should I wear?  4.7 out of 5 stars   \n",
       "4  Amazon Essentials is focused on creating affor...  4.4 out of 5 stars   \n",
       "\n",
       "                                           Image-src eCommerce  Classification  \n",
       "0  https://m.media-amazon.com/images/I/41rnSFMx5E...     Amazon    ModernStyle  \n",
       "1  https://m.media-amazon.com/images/I/31SkvaCXAg...     Amazon    ModernStyle  \n",
       "2  https://m.media-amazon.com/images/I/51hESVorON...     Amazon    ModernStyle  \n",
       "3  https://m.media-amazon.com/images/I/41c79d-MVx...     Amazon    ModernStyle  \n",
       "4  https://m.media-amazon.com/images/I/51sJ7k-heV...     Amazon    ModernStyle  "
      ]
     },
     "execution_count": 3,
     "metadata": {},
     "output_type": "execute_result"
    }
   ],
   "source": [
    "df.head(5)"
   ]
  },
  {
   "cell_type": "code",
   "execution_count": 4,
   "id": "a2f6a42c",
   "metadata": {},
   "outputs": [
    {
     "data": {
      "text/plain": [
       "Index(['web-scraper-order', 'web-scraper-start-url', 'product', 'product-href',\n",
       "       'Name', 'Price', 'Description', 'Ratings', 'Image-src', 'eCommerce ',\n",
       "       'Classification'],\n",
       "      dtype='object')"
      ]
     },
     "execution_count": 4,
     "metadata": {},
     "output_type": "execute_result"
    }
   ],
   "source": [
    "df.columns"
   ]
  },
  {
   "cell_type": "code",
   "execution_count": 5,
   "id": "e0e01a6c",
   "metadata": {},
   "outputs": [
    {
     "data": {
      "text/plain": [
       "(5820, 11)"
      ]
     },
     "execution_count": 5,
     "metadata": {},
     "output_type": "execute_result"
    }
   ],
   "source": [
    "df.shape"
   ]
  },
  {
   "cell_type": "code",
   "execution_count": 6,
   "id": "fde127b2",
   "metadata": {},
   "outputs": [],
   "source": [
    "drop_df = ['web-scraper-order', 'web-scraper-start-url', 'product']\n",
    "\n",
    "for i in range(len(drop_df)):\n",
    "    df = df.drop(drop_df[i], axis = 1)"
   ]
  },
  {
   "cell_type": "code",
   "execution_count": 7,
   "id": "999304f0",
   "metadata": {},
   "outputs": [
    {
     "data": {
      "text/html": [
       "<div>\n",
       "<style scoped>\n",
       "    .dataframe tbody tr th:only-of-type {\n",
       "        vertical-align: middle;\n",
       "    }\n",
       "\n",
       "    .dataframe tbody tr th {\n",
       "        vertical-align: top;\n",
       "    }\n",
       "\n",
       "    .dataframe thead th {\n",
       "        text-align: right;\n",
       "    }\n",
       "</style>\n",
       "<table border=\"1\" class=\"dataframe\">\n",
       "  <thead>\n",
       "    <tr style=\"text-align: right;\">\n",
       "      <th></th>\n",
       "      <th>product-href</th>\n",
       "      <th>Name</th>\n",
       "      <th>Price</th>\n",
       "      <th>Description</th>\n",
       "      <th>Ratings</th>\n",
       "      <th>Image-src</th>\n",
       "      <th>eCommerce</th>\n",
       "      <th>Classification</th>\n",
       "    </tr>\n",
       "  </thead>\n",
       "  <tbody>\n",
       "    <tr>\n",
       "      <th>0</th>\n",
       "      <td>https://www.amazon.com/gp/slredirect/picassoRe...</td>\n",
       "      <td>Women's Long Sleeve Tunic Tops Casual Twist Kn...</td>\n",
       "      <td>$22.99</td>\n",
       "      <td>NaN</td>\n",
       "      <td>4.3 out of 5 stars</td>\n",
       "      <td>https://m.media-amazon.com/images/I/41rnSFMx5E...</td>\n",
       "      <td>Amazon</td>\n",
       "      <td>ModernStyle</td>\n",
       "    </tr>\n",
       "    <tr>\n",
       "      <th>1</th>\n",
       "      <td>https://www.amazon.com/gp/slredirect/picassoRe...</td>\n",
       "      <td>TODOLOR Womens T Shirts Long Sleeve V Neck Loo...</td>\n",
       "      <td>$23.86</td>\n",
       "      <td>NaN</td>\n",
       "      <td>5.0 out of 5 stars</td>\n",
       "      <td>https://m.media-amazon.com/images/I/31SkvaCXAg...</td>\n",
       "      <td>Amazon</td>\n",
       "      <td>ModernStyle</td>\n",
       "    </tr>\n",
       "    <tr>\n",
       "      <th>2</th>\n",
       "      <td>https://www.amazon.com/gp/slredirect/picassoRe...</td>\n",
       "      <td>SSLR Womens Flamingo Shirt Casual Short Sleeve...</td>\n",
       "      <td>$20.90</td>\n",
       "      <td>NaN</td>\n",
       "      <td>4.5 out of 5 stars</td>\n",
       "      <td>https://m.media-amazon.com/images/I/51hESVorON...</td>\n",
       "      <td>Amazon</td>\n",
       "      <td>ModernStyle</td>\n",
       "    </tr>\n",
       "    <tr>\n",
       "      <th>3</th>\n",
       "      <td>https://www.amazon.com/TACVASEN-Athletic-Shirt...</td>\n",
       "      <td>TACVASEN Women's Polo Shirts Short Sleeve T-Sh...</td>\n",
       "      <td>$21.98</td>\n",
       "      <td>Q1: What size should I wear?</td>\n",
       "      <td>4.7 out of 5 stars</td>\n",
       "      <td>https://m.media-amazon.com/images/I/41c79d-MVx...</td>\n",
       "      <td>Amazon</td>\n",
       "      <td>ModernStyle</td>\n",
       "    </tr>\n",
       "    <tr>\n",
       "      <th>4</th>\n",
       "      <td>https://www.amazon.com/Amazon-Essentials-Long-...</td>\n",
       "      <td>Amazon Essentials Women's Classic-Fit Long-Sle...</td>\n",
       "      <td>$22.90</td>\n",
       "      <td>Amazon Essentials is focused on creating affor...</td>\n",
       "      <td>4.4 out of 5 stars</td>\n",
       "      <td>https://m.media-amazon.com/images/I/51sJ7k-heV...</td>\n",
       "      <td>Amazon</td>\n",
       "      <td>ModernStyle</td>\n",
       "    </tr>\n",
       "  </tbody>\n",
       "</table>\n",
       "</div>"
      ],
      "text/plain": [
       "                                        product-href  \\\n",
       "0  https://www.amazon.com/gp/slredirect/picassoRe...   \n",
       "1  https://www.amazon.com/gp/slredirect/picassoRe...   \n",
       "2  https://www.amazon.com/gp/slredirect/picassoRe...   \n",
       "3  https://www.amazon.com/TACVASEN-Athletic-Shirt...   \n",
       "4  https://www.amazon.com/Amazon-Essentials-Long-...   \n",
       "\n",
       "                                                Name   Price  \\\n",
       "0  Women's Long Sleeve Tunic Tops Casual Twist Kn...  $22.99   \n",
       "1  TODOLOR Womens T Shirts Long Sleeve V Neck Loo...  $23.86   \n",
       "2  SSLR Womens Flamingo Shirt Casual Short Sleeve...  $20.90   \n",
       "3  TACVASEN Women's Polo Shirts Short Sleeve T-Sh...  $21.98   \n",
       "4  Amazon Essentials Women's Classic-Fit Long-Sle...  $22.90   \n",
       "\n",
       "                                         Description             Ratings  \\\n",
       "0                                                NaN  4.3 out of 5 stars   \n",
       "1                                                NaN  5.0 out of 5 stars   \n",
       "2                                                NaN  4.5 out of 5 stars   \n",
       "3                       Q1: What size should I wear?  4.7 out of 5 stars   \n",
       "4  Amazon Essentials is focused on creating affor...  4.4 out of 5 stars   \n",
       "\n",
       "                                           Image-src eCommerce  Classification  \n",
       "0  https://m.media-amazon.com/images/I/41rnSFMx5E...     Amazon    ModernStyle  \n",
       "1  https://m.media-amazon.com/images/I/31SkvaCXAg...     Amazon    ModernStyle  \n",
       "2  https://m.media-amazon.com/images/I/51hESVorON...     Amazon    ModernStyle  \n",
       "3  https://m.media-amazon.com/images/I/41c79d-MVx...     Amazon    ModernStyle  \n",
       "4  https://m.media-amazon.com/images/I/51sJ7k-heV...     Amazon    ModernStyle  "
      ]
     },
     "execution_count": 7,
     "metadata": {},
     "output_type": "execute_result"
    }
   ],
   "source": [
    "df.head(5)"
   ]
  },
  {
   "cell_type": "code",
   "execution_count": 8,
   "id": "a2d9ee6b",
   "metadata": {},
   "outputs": [
    {
     "data": {
      "text/plain": [
       "product-href         0\n",
       "Name                 3\n",
       "Price               30\n",
       "Description       1674\n",
       "Ratings            114\n",
       "Image-src          545\n",
       "eCommerce            0\n",
       "Classification       0\n",
       "dtype: int64"
      ]
     },
     "execution_count": 8,
     "metadata": {},
     "output_type": "execute_result"
    }
   ],
   "source": [
    "df.isnull().sum()"
   ]
  },
  {
   "cell_type": "code",
   "execution_count": 9,
   "id": "f505f4db",
   "metadata": {},
   "outputs": [],
   "source": [
    "df.dropna(inplace=True)"
   ]
  },
  {
   "cell_type": "code",
   "execution_count": 10,
   "id": "f29b6b21",
   "metadata": {},
   "outputs": [
    {
     "data": {
      "text/plain": [
       "product-href      0\n",
       "Name              0\n",
       "Price             0\n",
       "Description       0\n",
       "Ratings           0\n",
       "Image-src         0\n",
       "eCommerce         0\n",
       "Classification    0\n",
       "dtype: int64"
      ]
     },
     "execution_count": 10,
     "metadata": {},
     "output_type": "execute_result"
    }
   ],
   "source": [
    "df.isnull().sum()"
   ]
  },
  {
   "cell_type": "code",
   "execution_count": 11,
   "id": "df2c147b",
   "metadata": {},
   "outputs": [
    {
     "data": {
      "text/plain": [
       "(3725, 8)"
      ]
     },
     "execution_count": 11,
     "metadata": {},
     "output_type": "execute_result"
    }
   ],
   "source": [
    "df.shape"
   ]
  },
  {
   "cell_type": "code",
   "execution_count": 12,
   "id": "158848d0",
   "metadata": {},
   "outputs": [],
   "source": [
    "amazon = df[(df == 'Amazon').any(axis = 1)]"
   ]
  },
  {
   "cell_type": "code",
   "execution_count": 13,
   "id": "fc22def9",
   "metadata": {},
   "outputs": [
    {
     "data": {
      "text/html": [
       "<div>\n",
       "<style scoped>\n",
       "    .dataframe tbody tr th:only-of-type {\n",
       "        vertical-align: middle;\n",
       "    }\n",
       "\n",
       "    .dataframe tbody tr th {\n",
       "        vertical-align: top;\n",
       "    }\n",
       "\n",
       "    .dataframe thead th {\n",
       "        text-align: right;\n",
       "    }\n",
       "</style>\n",
       "<table border=\"1\" class=\"dataframe\">\n",
       "  <thead>\n",
       "    <tr style=\"text-align: right;\">\n",
       "      <th></th>\n",
       "      <th>product-href</th>\n",
       "      <th>Name</th>\n",
       "      <th>Price</th>\n",
       "      <th>Description</th>\n",
       "      <th>Ratings</th>\n",
       "      <th>Image-src</th>\n",
       "      <th>eCommerce</th>\n",
       "      <th>Classification</th>\n",
       "    </tr>\n",
       "  </thead>\n",
       "  <tbody>\n",
       "    <tr>\n",
       "      <th>3</th>\n",
       "      <td>https://www.amazon.com/TACVASEN-Athletic-Shirt...</td>\n",
       "      <td>TACVASEN Women's Polo Shirts Short Sleeve T-Sh...</td>\n",
       "      <td>$21.98</td>\n",
       "      <td>Q1: What size should I wear?</td>\n",
       "      <td>4.7 out of 5 stars</td>\n",
       "      <td>https://m.media-amazon.com/images/I/41c79d-MVx...</td>\n",
       "      <td>Amazon</td>\n",
       "      <td>ModernStyle</td>\n",
       "    </tr>\n",
       "    <tr>\n",
       "      <th>4</th>\n",
       "      <td>https://www.amazon.com/Amazon-Essentials-Long-...</td>\n",
       "      <td>Amazon Essentials Women's Classic-Fit Long-Sle...</td>\n",
       "      <td>$22.90</td>\n",
       "      <td>Amazon Essentials is focused on creating affor...</td>\n",
       "      <td>4.4 out of 5 stars</td>\n",
       "      <td>https://m.media-amazon.com/images/I/51sJ7k-heV...</td>\n",
       "      <td>Amazon</td>\n",
       "      <td>ModernStyle</td>\n",
       "    </tr>\n",
       "    <tr>\n",
       "      <th>5</th>\n",
       "      <td>https://www.amazon.com/MTV-Music-Television-Vi...</td>\n",
       "      <td>MTV Music Television Vibrant Tie Dye Logo Fill...</td>\n",
       "      <td>$21.99</td>\n",
       "      <td>Do you want your MTV? Get it any day, any time...</td>\n",
       "      <td>3.7 out of 5 stars</td>\n",
       "      <td>https://m.media-amazon.com/images/I/A1giWWMJxU...</td>\n",
       "      <td>Amazon</td>\n",
       "      <td>ModernStyle</td>\n",
       "    </tr>\n",
       "    <tr>\n",
       "      <th>7</th>\n",
       "      <td>https://www.amazon.com/Jurassic-Park-Vibrant-P...</td>\n",
       "      <td>Jurassic Park Vibrant Jeep Tour With Sunset Pr...</td>\n",
       "      <td>$21.99</td>\n",
       "      <td>The dinosaurs cannot wait to eat you... I mean...</td>\n",
       "      <td>3.0 out of 5 stars</td>\n",
       "      <td>https://m.media-amazon.com/images/I/A1mzE4NSO%...</td>\n",
       "      <td>Amazon</td>\n",
       "      <td>ModernStyle</td>\n",
       "    </tr>\n",
       "    <tr>\n",
       "      <th>9</th>\n",
       "      <td>https://www.amazon.com/Jurassic-Park-Vibrant-G...</td>\n",
       "      <td>Jurassic Park Life Finds A Way Vibrant T-Shirt</td>\n",
       "      <td>$18.99</td>\n",
       "      <td>You have to evacuate the island but be sure no...</td>\n",
       "      <td>5.0 out of 5 stars</td>\n",
       "      <td>https://m.media-amazon.com/images/I/A1jKzO%2B1...</td>\n",
       "      <td>Amazon</td>\n",
       "      <td>ModernStyle</td>\n",
       "    </tr>\n",
       "  </tbody>\n",
       "</table>\n",
       "</div>"
      ],
      "text/plain": [
       "                                        product-href  \\\n",
       "3  https://www.amazon.com/TACVASEN-Athletic-Shirt...   \n",
       "4  https://www.amazon.com/Amazon-Essentials-Long-...   \n",
       "5  https://www.amazon.com/MTV-Music-Television-Vi...   \n",
       "7  https://www.amazon.com/Jurassic-Park-Vibrant-P...   \n",
       "9  https://www.amazon.com/Jurassic-Park-Vibrant-G...   \n",
       "\n",
       "                                                Name   Price  \\\n",
       "3  TACVASEN Women's Polo Shirts Short Sleeve T-Sh...  $21.98   \n",
       "4  Amazon Essentials Women's Classic-Fit Long-Sle...  $22.90   \n",
       "5  MTV Music Television Vibrant Tie Dye Logo Fill...  $21.99   \n",
       "7  Jurassic Park Vibrant Jeep Tour With Sunset Pr...  $21.99   \n",
       "9     Jurassic Park Life Finds A Way Vibrant T-Shirt  $18.99   \n",
       "\n",
       "                                         Description             Ratings  \\\n",
       "3                       Q1: What size should I wear?  4.7 out of 5 stars   \n",
       "4  Amazon Essentials is focused on creating affor...  4.4 out of 5 stars   \n",
       "5  Do you want your MTV? Get it any day, any time...  3.7 out of 5 stars   \n",
       "7  The dinosaurs cannot wait to eat you... I mean...  3.0 out of 5 stars   \n",
       "9  You have to evacuate the island but be sure no...  5.0 out of 5 stars   \n",
       "\n",
       "                                           Image-src eCommerce  Classification  \n",
       "3  https://m.media-amazon.com/images/I/41c79d-MVx...     Amazon    ModernStyle  \n",
       "4  https://m.media-amazon.com/images/I/51sJ7k-heV...     Amazon    ModernStyle  \n",
       "5  https://m.media-amazon.com/images/I/A1giWWMJxU...     Amazon    ModernStyle  \n",
       "7  https://m.media-amazon.com/images/I/A1mzE4NSO%...     Amazon    ModernStyle  \n",
       "9  https://m.media-amazon.com/images/I/A1jKzO%2B1...     Amazon    ModernStyle  "
      ]
     },
     "execution_count": 13,
     "metadata": {},
     "output_type": "execute_result"
    }
   ],
   "source": [
    "amazon.head(5)"
   ]
  },
  {
   "cell_type": "code",
   "execution_count": 14,
   "id": "6d8c8c34",
   "metadata": {},
   "outputs": [
    {
     "data": {
      "text/plain": [
       "3                        [q, what, size, should, i, wear]\n",
       "4       [amazon, essentials, is, focused, on, creating...\n",
       "5       [do, you, want, your, mtv, get, it, any, day, ...\n",
       "7       [the, dinosaurs, can, not, wait, to, eat, you,...\n",
       "9       [you, have, to, evacuate, the, island, but, be...\n",
       "                              ...                        \n",
       "5812                                   [unique, features]\n",
       "5813    [jessica, simpson, women, s, apparel, katie, s...\n",
       "5817    [just, like, our, founder, h, d, lee, our, pas...\n",
       "5818    [the, women, s, studio, curvy, pant, from, c, ...\n",
       "5819    [the, skechers, gowalk, pant, is, perfect, for...\n",
       "Name: clean_description, Length: 3725, dtype: object"
      ]
     },
     "execution_count": 14,
     "metadata": {},
     "output_type": "execute_result"
    }
   ],
   "source": [
    "import pandas as pd\n",
    "import numpy as np\n",
    "import re\n",
    "import nltk\n",
    "\n",
    "\n",
    "amazon['clean_description'] = amazon['Description'].str.lower()\n",
    "amazon['clean_description'] = amazon['clean_description'].apply(lambda x: re.sub('[^a-zA-Z]', ' ', x))\n",
    "amazon['clean_description'] = amazon['clean_description'].apply(lambda x: re.sub('\\s+', ' ', x))\n",
    "amazon['clean_description'] = amazon['clean_description'].apply(lambda x: nltk.word_tokenize(x))\n",
    "amazon['clean_description']"
   ]
  },
  {
   "cell_type": "code",
   "execution_count": 15,
   "id": "5a799d95",
   "metadata": {},
   "outputs": [],
   "source": [
    "def descrition(dframe):\n",
    "    stop_words = nltk.corpus.stopwords.words('english')\n",
    "    d = []\n",
    "    for sentence in dframe:\n",
    "        temp = []\n",
    "        for word in sentence:\n",
    "            if word not in stop_words and len(word) >= 3:\n",
    "                temp.append(word)\n",
    "        d.append(temp)\n",
    "        \n",
    "    return d"
   ]
  },
  {
   "cell_type": "code",
   "execution_count": 16,
   "id": "7862416e",
   "metadata": {},
   "outputs": [],
   "source": [
    "d = descrition(amazon['clean_description'])"
   ]
  },
  {
   "cell_type": "code",
   "execution_count": 17,
   "id": "2a1eb3ad",
   "metadata": {},
   "outputs": [
    {
     "data": {
      "text/plain": [
       "['hotexy', 'makes', 'hot', 'sexy']"
      ]
     },
     "execution_count": 17,
     "metadata": {},
     "output_type": "execute_result"
    }
   ],
   "source": [
    "d[10]"
   ]
  },
  {
   "cell_type": "code",
   "execution_count": 18,
   "id": "a7597477",
   "metadata": {
    "scrolled": false
   },
   "outputs": [
    {
     "data": {
      "text/plain": [
       "3                                         [size, wear]\n",
       "4    [amazon, essentials, focused, creating, afford...\n",
       "5    [want, mtv, get, day, time, place, officially,...\n",
       "7    [dinosaurs, wait, eat, mean, meet, grab, offic...\n",
       "9    [evacuate, island, sure, forget, officially, l...\n",
       "Name: clean_descrition, dtype: object"
      ]
     },
     "execution_count": 18,
     "metadata": {},
     "output_type": "execute_result"
    }
   ],
   "source": [
    "amazon['clean_descrition'] = d\n",
    "amazon['clean_descrition'].head(5)"
   ]
  },
  {
   "cell_type": "code",
   "execution_count": 19,
   "id": "f97be9cd",
   "metadata": {},
   "outputs": [
    {
     "data": {
      "text/plain": [
       "Index(['product-href', 'Name', 'Price', 'Description', 'Ratings', 'Image-src',\n",
       "       'eCommerce ', 'Classification', 'clean_description',\n",
       "       'clean_descrition'],\n",
       "      dtype='object')"
      ]
     },
     "execution_count": 19,
     "metadata": {},
     "output_type": "execute_result"
    }
   ],
   "source": [
    "amazon.columns"
   ]
  },
  {
   "cell_type": "code",
   "execution_count": 20,
   "id": "fb31382e",
   "metadata": {},
   "outputs": [
    {
     "data": {
      "text/html": [
       "<div>\n",
       "<style scoped>\n",
       "    .dataframe tbody tr th:only-of-type {\n",
       "        vertical-align: middle;\n",
       "    }\n",
       "\n",
       "    .dataframe tbody tr th {\n",
       "        vertical-align: top;\n",
       "    }\n",
       "\n",
       "    .dataframe thead th {\n",
       "        text-align: right;\n",
       "    }\n",
       "</style>\n",
       "<table border=\"1\" class=\"dataframe\">\n",
       "  <thead>\n",
       "    <tr style=\"text-align: right;\">\n",
       "      <th></th>\n",
       "      <th>Classification</th>\n",
       "      <th>clean_description</th>\n",
       "    </tr>\n",
       "    <tr>\n",
       "      <th>Name</th>\n",
       "      <th></th>\n",
       "      <th></th>\n",
       "    </tr>\n",
       "  </thead>\n",
       "  <tbody>\n",
       "    <tr>\n",
       "      <th>TACVASEN Women's Polo Shirts Short Sleeve T-Shirt Quick Dry Golf 4-Button Sports Performance Tops Tennis Fitness Leisure</th>\n",
       "      <td>ModernStyle</td>\n",
       "      <td>[q, what, size, should, i, wear]</td>\n",
       "    </tr>\n",
       "    <tr>\n",
       "      <th>Amazon Essentials Women's Classic-Fit Long-Sleeve Lightweight Plaid Flannel Shirt</th>\n",
       "      <td>ModernStyle</td>\n",
       "      <td>[amazon, essentials, is, focused, on, creating...</td>\n",
       "    </tr>\n",
       "    <tr>\n",
       "      <th>MTV Music Television Vibrant Tie Dye Logo Fill T-Shirt</th>\n",
       "      <td>ModernStyle</td>\n",
       "      <td>[do, you, want, your, mtv, get, it, any, day, ...</td>\n",
       "    </tr>\n",
       "    <tr>\n",
       "      <th>Jurassic Park Vibrant Jeep Tour With Sunset Premium T-Shirt</th>\n",
       "      <td>ModernStyle</td>\n",
       "      <td>[the, dinosaurs, can, not, wait, to, eat, you,...</td>\n",
       "    </tr>\n",
       "    <tr>\n",
       "      <th>Jurassic Park Life Finds A Way Vibrant T-Shirt</th>\n",
       "      <td>ModernStyle</td>\n",
       "      <td>[you, have, to, evacuate, the, island, but, be...</td>\n",
       "    </tr>\n",
       "  </tbody>\n",
       "</table>\n",
       "</div>"
      ],
      "text/plain": [
       "                                                   Classification  \\\n",
       "Name                                                                \n",
       "TACVASEN Women's Polo Shirts Short Sleeve T-Shi...    ModernStyle   \n",
       "Amazon Essentials Women's Classic-Fit Long-Slee...    ModernStyle   \n",
       "MTV Music Television Vibrant Tie Dye Logo Fill ...    ModernStyle   \n",
       "Jurassic Park Vibrant Jeep Tour With Sunset Pre...    ModernStyle   \n",
       "Jurassic Park Life Finds A Way Vibrant T-Shirt        ModernStyle   \n",
       "\n",
       "                                                                                    clean_description  \n",
       "Name                                                                                                   \n",
       "TACVASEN Women's Polo Shirts Short Sleeve T-Shi...                   [q, what, size, should, i, wear]  \n",
       "Amazon Essentials Women's Classic-Fit Long-Slee...  [amazon, essentials, is, focused, on, creating...  \n",
       "MTV Music Television Vibrant Tie Dye Logo Fill ...  [do, you, want, your, mtv, get, it, any, day, ...  \n",
       "Jurassic Park Vibrant Jeep Tour With Sunset Pre...  [the, dinosaurs, can, not, wait, to, eat, you,...  \n",
       "Jurassic Park Life Finds A Way Vibrant T-Shirt      [you, have, to, evacuate, the, island, but, be...  "
      ]
     },
     "execution_count": 20,
     "metadata": {},
     "output_type": "execute_result"
    }
   ],
   "source": [
    "amazon =amazon.set_index('Name')[['Classification', 'clean_description']]\n",
    "amazon.head(5)"
   ]
  },
  {
   "cell_type": "code",
   "execution_count": 21,
   "id": "cfbc636a",
   "metadata": {},
   "outputs": [],
   "source": [
    "amazon['corpus'] = ''\n",
    "columns = amazon.columns\n",
    "\n",
    "for index, row in amazon.iterrows():\n",
    "    words = ''\n",
    "    for col in columns:\n",
    "        if col != 'Classification':\n",
    "            words = words+''.join(row[col])+''\n",
    "        else:\n",
    "            words = words+row[col]+' '\n",
    "    row['corpus']  =words\n",
    "    \n",
    "amazon.drop(columns = [col for col in amazon.columns if col != 'corpus'], inplace= True)"
   ]
  },
  {
   "cell_type": "code",
   "execution_count": 22,
   "id": "a653065f",
   "metadata": {},
   "outputs": [
    {
     "data": {
      "text/html": [
       "<div>\n",
       "<style scoped>\n",
       "    .dataframe tbody tr th:only-of-type {\n",
       "        vertical-align: middle;\n",
       "    }\n",
       "\n",
       "    .dataframe tbody tr th {\n",
       "        vertical-align: top;\n",
       "    }\n",
       "\n",
       "    .dataframe thead th {\n",
       "        text-align: right;\n",
       "    }\n",
       "</style>\n",
       "<table border=\"1\" class=\"dataframe\">\n",
       "  <thead>\n",
       "    <tr style=\"text-align: right;\">\n",
       "      <th></th>\n",
       "      <th>corpus</th>\n",
       "    </tr>\n",
       "    <tr>\n",
       "      <th>Name</th>\n",
       "      <th></th>\n",
       "    </tr>\n",
       "  </thead>\n",
       "  <tbody>\n",
       "    <tr>\n",
       "      <th>TACVASEN Women's Polo Shirts Short Sleeve T-Shirt Quick Dry Golf 4-Button Sports Performance Tops Tennis Fitness Leisure</th>\n",
       "      <td>ModernStyle qwhatsizeshouldiwear</td>\n",
       "    </tr>\n",
       "    <tr>\n",
       "      <th>Amazon Essentials Women's Classic-Fit Long-Sleeve Lightweight Plaid Flannel Shirt</th>\n",
       "      <td>ModernStyle amazonessentialsisfocusedoncreatin...</td>\n",
       "    </tr>\n",
       "    <tr>\n",
       "      <th>MTV Music Television Vibrant Tie Dye Logo Fill T-Shirt</th>\n",
       "      <td>ModernStyle doyouwantyourmtvgetitanydayanytime...</td>\n",
       "    </tr>\n",
       "    <tr>\n",
       "      <th>Jurassic Park Vibrant Jeep Tour With Sunset Premium T-Shirt</th>\n",
       "      <td>ModernStyle thedinosaurscannotwaittoeatyouimea...</td>\n",
       "    </tr>\n",
       "    <tr>\n",
       "      <th>Jurassic Park Life Finds A Way Vibrant T-Shirt</th>\n",
       "      <td>ModernStyle youhavetoevacuatetheislandbutbesur...</td>\n",
       "    </tr>\n",
       "  </tbody>\n",
       "</table>\n",
       "</div>"
      ],
      "text/plain": [
       "                                                                                               corpus\n",
       "Name                                                                                                 \n",
       "TACVASEN Women's Polo Shirts Short Sleeve T-Shi...                   ModernStyle qwhatsizeshouldiwear\n",
       "Amazon Essentials Women's Classic-Fit Long-Slee...  ModernStyle amazonessentialsisfocusedoncreatin...\n",
       "MTV Music Television Vibrant Tie Dye Logo Fill ...  ModernStyle doyouwantyourmtvgetitanydayanytime...\n",
       "Jurassic Park Vibrant Jeep Tour With Sunset Pre...  ModernStyle thedinosaurscannotwaittoeatyouimea...\n",
       "Jurassic Park Life Finds A Way Vibrant T-Shirt      ModernStyle youhavetoevacuatetheislandbutbesur..."
      ]
     },
     "execution_count": 22,
     "metadata": {},
     "output_type": "execute_result"
    }
   ],
   "source": [
    "amazon.head(5)"
   ]
  },
  {
   "cell_type": "code",
   "execution_count": 23,
   "id": "eb8f9dbf",
   "metadata": {},
   "outputs": [
    {
     "data": {
      "text/plain": [
       "corpus    2003\n",
       "dtype: int64"
      ]
     },
     "execution_count": 23,
     "metadata": {},
     "output_type": "execute_result"
    }
   ],
   "source": [
    "amazon.nunique()"
   ]
  },
  {
   "cell_type": "code",
   "execution_count": 24,
   "id": "46f5d197",
   "metadata": {},
   "outputs": [
    {
     "data": {
      "text/plain": [
       "3725"
      ]
     },
     "execution_count": 24,
     "metadata": {},
     "output_type": "execute_result"
    }
   ],
   "source": [
    "len(amazon)"
   ]
  },
  {
   "cell_type": "code",
   "execution_count": 25,
   "id": "2a5b9dae",
   "metadata": {},
   "outputs": [],
   "source": [
    "X = amazon.index.astype('string')\n",
    "y = amazon['corpus']"
   ]
  },
  {
   "cell_type": "code",
   "execution_count": 26,
   "id": "159d51a3",
   "metadata": {},
   "outputs": [
    {
     "data": {
      "text/plain": [
       "(\"Amazon Essentials Women's Classic-Fit Long-Sleeve Lightweight Plaid Flannel Shirt\",\n",
       " 'ModernStyle amazonessentialsisfocusedoncreatingaffordablehighqualityandlonglastingeverydayclothingyoucanrelyonourlineofwomensapparelincludescashmeresweatersfleeceanddownjacketsandmoreincludingplussizeoptionsourconsistentsizingtakestheguessworkoutofshoppingandeachpieceisputtothetesttomaintainthehigheststandardsinqualityandcomfort')"
      ]
     },
     "execution_count": 26,
     "metadata": {},
     "output_type": "execute_result"
    }
   ],
   "source": [
    "X[1],y[1]"
   ]
  },
  {
   "cell_type": "code",
   "execution_count": 27,
   "id": "91e8ec55",
   "metadata": {},
   "outputs": [],
   "source": [
    "data_pairs = []\n",
    "\n",
    "for i in range(len(X)):\n",
    "    target = X[i]\n",
    "    content = y[i]\n",
    "    data_pairs.append([target, content])"
   ]
  },
  {
   "cell_type": "code",
   "execution_count": 28,
   "id": "97844b61",
   "metadata": {},
   "outputs": [
    {
     "data": {
      "text/plain": [
       "'ModernStyle joycacowascreatedwithonevisioninmind'"
      ]
     },
     "execution_count": 28,
     "metadata": {},
     "output_type": "execute_result"
    }
   ],
   "source": [
    "data_pairs[9][1]"
   ]
  },
  {
   "cell_type": "code",
   "execution_count": 29,
   "id": "1a229e4d",
   "metadata": {},
   "outputs": [
    {
     "name": "stdout",
     "output_type": "stream",
     "text": [
      "Requirement already satisfied: import-ipynb in c:\\users\\emielou\\anaconda3\\lib\\site-packages (0.1.4)\n",
      "Requirement already satisfied: IPython in c:\\users\\emielou\\anaconda3\\lib\\site-packages (from import-ipynb) (8.2.0)\n",
      "Requirement already satisfied: nbformat in c:\\users\\emielou\\anaconda3\\lib\\site-packages (from import-ipynb) (5.3.0)\n",
      "Requirement already satisfied: jedi>=0.16 in c:\\users\\emielou\\anaconda3\\lib\\site-packages (from IPython->import-ipynb) (0.18.1)\n",
      "Requirement already satisfied: matplotlib-inline in c:\\users\\emielou\\anaconda3\\lib\\site-packages (from IPython->import-ipynb) (0.1.2)\n",
      "Requirement already satisfied: backcall in c:\\users\\emielou\\anaconda3\\lib\\site-packages (from IPython->import-ipynb) (0.2.0)\n",
      "Requirement already satisfied: stack-data in c:\\users\\emielou\\anaconda3\\lib\\site-packages (from IPython->import-ipynb) (0.2.0)\n",
      "Requirement already satisfied: traitlets>=5 in c:\\users\\emielou\\anaconda3\\lib\\site-packages (from IPython->import-ipynb) (5.1.1)\n",
      "Requirement already satisfied: colorama in c:\\users\\emielou\\anaconda3\\lib\\site-packages (from IPython->import-ipynb) (0.4.4)\n",
      "Requirement already satisfied: pygments>=2.4.0 in c:\\users\\emielou\\anaconda3\\lib\\site-packages (from IPython->import-ipynb) (2.11.2)\n",
      "Requirement already satisfied: decorator in c:\\users\\emielou\\anaconda3\\lib\\site-packages (from IPython->import-ipynb) (5.1.1)\n",
      "Requirement already satisfied: prompt-toolkit!=3.0.0,!=3.0.1,<3.1.0,>=2.0.0 in c:\\users\\emielou\\anaconda3\\lib\\site-packages (from IPython->import-ipynb) (3.0.20)\n",
      "Requirement already satisfied: pickleshare in c:\\users\\emielou\\anaconda3\\lib\\site-packages (from IPython->import-ipynb) (0.7.5)\n",
      "Requirement already satisfied: setuptools>=18.5 in c:\\users\\emielou\\anaconda3\\lib\\site-packages (from IPython->import-ipynb) (61.2.0)\n",
      "Requirement already satisfied: parso<0.9.0,>=0.8.0 in c:\\users\\emielou\\anaconda3\\lib\\site-packages (from jedi>=0.16->IPython->import-ipynb) (0.8.3)\n",
      "Requirement already satisfied: wcwidth in c:\\users\\emielou\\anaconda3\\lib\\site-packages (from prompt-toolkit!=3.0.0,!=3.0.1,<3.1.0,>=2.0.0->IPython->import-ipynb) (0.2.5)\n",
      "Requirement already satisfied: jsonschema>=2.6 in c:\\users\\emielou\\anaconda3\\lib\\site-packages (from nbformat->import-ipynb) (4.4.0)\n",
      "Requirement already satisfied: jupyter-core in c:\\users\\emielou\\anaconda3\\lib\\site-packages (from nbformat->import-ipynb) (4.9.2)\n",
      "Requirement already satisfied: fastjsonschema in c:\\users\\emielou\\anaconda3\\lib\\site-packages (from nbformat->import-ipynb) (2.15.1)\n",
      "Requirement already satisfied: pyrsistent!=0.17.0,!=0.17.1,!=0.17.2,>=0.14.0 in c:\\users\\emielou\\anaconda3\\lib\\site-packages (from jsonschema>=2.6->nbformat->import-ipynb) (0.18.0)\n",
      "Requirement already satisfied: attrs>=17.4.0 in c:\\users\\emielou\\anaconda3\\lib\\site-packages (from jsonschema>=2.6->nbformat->import-ipynb) (21.4.0)\n",
      "Requirement already satisfied: pywin32>=1.0 in c:\\users\\emielou\\anaconda3\\lib\\site-packages (from jupyter-core->nbformat->import-ipynb) (302)\n",
      "Requirement already satisfied: executing in c:\\users\\emielou\\anaconda3\\lib\\site-packages (from stack-data->IPython->import-ipynb) (0.8.3)\n",
      "Requirement already satisfied: asttokens in c:\\users\\emielou\\anaconda3\\lib\\site-packages (from stack-data->IPython->import-ipynb) (2.0.5)\n",
      "Requirement already satisfied: pure-eval in c:\\users\\emielou\\anaconda3\\lib\\site-packages (from stack-data->IPython->import-ipynb) (0.2.2)\n",
      "Requirement already satisfied: six in c:\\users\\emielou\\anaconda3\\lib\\site-packages (from asttokens->stack-data->IPython->import-ipynb) (1.16.0)\n"
     ]
    }
   ],
   "source": [
    "!pip install import-ipynb"
   ]
  },
  {
   "cell_type": "code",
   "execution_count": 30,
   "id": "6bde8f11",
   "metadata": {},
   "outputs": [],
   "source": [
    "import import_ipynb\n",
    "from Recommendation_Model import nn"
   ]
  },
  {
   "cell_type": "code",
   "execution_count": 31,
   "id": "fb910f59",
   "metadata": {},
   "outputs": [],
   "source": [
    "training_data = nn.generate_training_data(data_pairs)"
   ]
  },
  {
   "cell_type": "code",
   "execution_count": 32,
   "id": "23bf6fc4",
   "metadata": {},
   "outputs": [
    {
     "name": "stdout",
     "output_type": "stream",
     "text": [
      "Iteration:  0 Loss:  15406.09715426489\n"
     ]
    },
    {
     "ename": "KeyboardInterrupt",
     "evalue": "",
     "output_type": "error",
     "traceback": [
      "\u001b[1;31m---------------------------------------------------------------------------\u001b[0m",
      "\u001b[1;31mKeyboardInterrupt\u001b[0m                         Traceback (most recent call last)",
      "Input \u001b[1;32mIn [32]\u001b[0m, in \u001b[0;36m<cell line: 1>\u001b[1;34m()\u001b[0m\n\u001b[1;32m----> 1\u001b[0m \u001b[43mnn\u001b[49m\u001b[38;5;241;43m.\u001b[39;49m\u001b[43mtrain\u001b[49m\u001b[43m(\u001b[49m\u001b[43mtraining_data\u001b[49m\u001b[43m)\u001b[49m\n",
      "File \u001b[1;32m~\\Desktop\\Recommendation\\Recommendation_Model.py:132\u001b[0m, in \u001b[0;36mNueralNetwork.train\u001b[1;34m(self, training_data)\u001b[0m\n\u001b[0;32m    130\u001b[0m     y_pred, h, u \u001b[38;5;241m=\u001b[39m \u001b[38;5;28mself\u001b[39m\u001b[38;5;241m.\u001b[39mforward_pass(w_t)\n\u001b[0;32m    131\u001b[0m     EI \u001b[38;5;241m=\u001b[39m np\u001b[38;5;241m.\u001b[39msum([np\u001b[38;5;241m.\u001b[39msubtract(y_pred, word) \u001b[38;5;28;01mfor\u001b[39;00m word \u001b[38;5;129;01min\u001b[39;00m w_c], axis\u001b[38;5;241m=\u001b[39m\u001b[38;5;241m0\u001b[39m)\n\u001b[1;32m--> 132\u001b[0m     \u001b[38;5;28;43mself\u001b[39;49m\u001b[38;5;241;43m.\u001b[39;49m\u001b[43mbackprop\u001b[49m\u001b[43m(\u001b[49m\u001b[43mEI\u001b[49m\u001b[43m,\u001b[49m\u001b[43m \u001b[49m\u001b[43mh\u001b[49m\u001b[43m,\u001b[49m\u001b[43m \u001b[49m\u001b[43mw_t\u001b[49m\u001b[43m)\u001b[49m\n\u001b[0;32m    134\u001b[0m     \u001b[38;5;28mself\u001b[39m\u001b[38;5;241m.\u001b[39mloss \u001b[38;5;241m+\u001b[39m\u001b[38;5;241m=\u001b[39m \u001b[38;5;241m-\u001b[39mnp\u001b[38;5;241m.\u001b[39msum([u[word\u001b[38;5;241m.\u001b[39mindex(\u001b[38;5;241m1\u001b[39m)] \u001b[38;5;28;01mfor\u001b[39;00m word \u001b[38;5;129;01min\u001b[39;00m w_c]) \u001b[38;5;241m+\u001b[39m \u001b[38;5;28mlen\u001b[39m(w_c) \u001b[38;5;241m*\u001b[39m np\u001b[38;5;241m.\u001b[39mlog(np\u001b[38;5;241m.\u001b[39msum(np\u001b[38;5;241m.\u001b[39mexp(u)))\n\u001b[0;32m    135\u001b[0m \u001b[38;5;28;01mif\u001b[39;00m i \u001b[38;5;241m%\u001b[39m \u001b[38;5;241m100\u001b[39m \u001b[38;5;241m==\u001b[39m \u001b[38;5;241m0\u001b[39m:  \n",
      "File \u001b[1;32m~\\Desktop\\Recommendation\\Recommendation_Model.py:117\u001b[0m, in \u001b[0;36mNueralNetwork.backprop\u001b[1;34m(self, e, h, x)\u001b[0m\n\u001b[0;32m    114\u001b[0m dl_dw1 \u001b[38;5;241m=\u001b[39m np\u001b[38;5;241m.\u001b[39mouter(x, np\u001b[38;5;241m.\u001b[39mdot(\u001b[38;5;28mself\u001b[39m\u001b[38;5;241m.\u001b[39mw2, e\u001b[38;5;241m.\u001b[39mT))\n\u001b[0;32m    116\u001b[0m \u001b[38;5;28mself\u001b[39m\u001b[38;5;241m.\u001b[39mw1 \u001b[38;5;241m=\u001b[39m \u001b[38;5;28mself\u001b[39m\u001b[38;5;241m.\u001b[39mw1 \u001b[38;5;241m-\u001b[39m (\u001b[38;5;28mself\u001b[39m\u001b[38;5;241m.\u001b[39meta \u001b[38;5;241m*\u001b[39m dl_dw1)\n\u001b[1;32m--> 117\u001b[0m \u001b[38;5;28mself\u001b[39m\u001b[38;5;241m.\u001b[39mw2 \u001b[38;5;241m=\u001b[39m \u001b[38;5;28;43mself\u001b[39;49m\u001b[38;5;241;43m.\u001b[39;49m\u001b[43mw2\u001b[49m\u001b[43m \u001b[49m\u001b[38;5;241;43m-\u001b[39;49m\u001b[43m \u001b[49m\u001b[43m(\u001b[49m\u001b[38;5;28;43mself\u001b[39;49m\u001b[38;5;241;43m.\u001b[39;49m\u001b[43meta\u001b[49m\u001b[43m \u001b[49m\u001b[38;5;241;43m*\u001b[39;49m\u001b[43m \u001b[49m\u001b[43mdl_dw2\u001b[49m\u001b[43m)\u001b[49m\n",
      "\u001b[1;31mKeyboardInterrupt\u001b[0m: "
     ]
    }
   ],
   "source": [
    "nn.train(training_data)"
   ]
  },
  {
   "cell_type": "code",
   "execution_count": null,
   "id": "8b35418b",
   "metadata": {},
   "outputs": [],
   "source": [
    "nn.word_vec(data_pairs[100][0])"
   ]
  }
 ],
 "metadata": {
  "kernelspec": {
   "display_name": "Python 3 (ipykernel)",
   "language": "python",
   "name": "python3"
  },
  "language_info": {
   "codemirror_mode": {
    "name": "ipython",
    "version": 3
   },
   "file_extension": ".py",
   "mimetype": "text/x-python",
   "name": "python",
   "nbconvert_exporter": "python",
   "pygments_lexer": "ipython3",
   "version": "3.9.12"
  }
 },
 "nbformat": 4,
 "nbformat_minor": 5
}
